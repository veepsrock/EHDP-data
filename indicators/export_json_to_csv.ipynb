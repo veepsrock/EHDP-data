{
 "cells": [
  {
   "cell_type": "code",
   "execution_count": 2,
   "id": "614da4ae-e4a1-4353-a049-9d3a4827c99b",
   "metadata": {},
   "outputs": [],
   "source": [
    "import pandas as pd"
   ]
  },
  {
   "cell_type": "code",
   "execution_count": 3,
   "id": "aa0409b3-c7d9-4ec2-80d1-fb3071fb3c9b",
   "metadata": {},
   "outputs": [],
   "source": [
    "import json\n",
    "import os\n",
    "import csv"
   ]
  },
  {
   "cell_type": "code",
   "execution_count": 4,
   "id": "7e9f4fcf-27e5-44e6-b836-aa94f8a1b5ec",
   "metadata": {},
   "outputs": [
    {
     "data": {
      "text/plain": [
       "'/repos/EHDP-data/indicators'"
      ]
     },
     "execution_count": 4,
     "metadata": {},
     "output_type": "execute_result"
    }
   ],
   "source": [
    "os.getcwd()"
   ]
  },
  {
   "cell_type": "markdown",
   "id": "fefd13cf-7275-46e5-886c-61ddd78d8c04",
   "metadata": {},
   "source": [
    "## Reading in indicators file"
   ]
  },
  {
   "cell_type": "code",
   "execution_count": 186,
   "id": "dc05d066-29bf-4b6b-a431-157b3afc5c96",
   "metadata": {},
   "outputs": [],
   "source": [
    "indicators = json.load(open(\"indicators.json\"))"
   ]
  },
  {
   "cell_type": "code",
   "execution_count": 191,
   "id": "dcff4723-c458-40a2-9988-6b421a31dbee",
   "metadata": {},
   "outputs": [],
   "source": [
    "indicator_data =[]\n",
    "for object_key in indicators:\n",
    "    indicator = {\n",
    "        'IndicatorID' : object_key['IndicatorID'],\n",
    "        'IndicatorName': object_key['IndicatorName']\n",
    "    }\n",
    "    indicator_data.append(indicator)\n",
    "indicator_df = pd.DataFrame(indicator_data)"
   ]
  },
  {
   "cell_type": "code",
   "execution_count": 193,
   "id": "fc1d3682-8cf9-4b80-a8d9-26de555a0f9e",
   "metadata": {},
   "outputs": [],
   "source": [
    "indicator_df.to_csv(\"indicator_names.csv\", index = False)"
   ]
  },
  {
   "cell_type": "markdown",
   "id": "0d50bae0-2f63-46ee-9f7b-5ad9dbe92ef6",
   "metadata": {},
   "source": [
    "## Getting measures data"
   ]
  },
  {
   "cell_type": "code",
   "execution_count": 169,
   "id": "d6670790-2aec-4194-b5e6-13cf3c6d7335",
   "metadata": {},
   "outputs": [],
   "source": [
    "measure_data=[]\n",
    "for object_key in indicators:\n",
    "    if object_key['IndicatorID'] in indicator_list:\n",
    "        for measure in object_key['Measures']:\n",
    "            measure={\n",
    "                'MeasureID': measure['MeasureID'],\n",
    "                'MeasureName' : measure['MeasureName']\n",
    "            }\n",
    "            measure_ids.add(measure['MeasureID'])\n",
    "            measure_names.add(measure['MeasureName'])\n",
    "            measure_data.append(measure)"
   ]
  },
  {
   "cell_type": "code",
   "execution_count": 170,
   "id": "314a66eb-11a1-455e-9a9f-9930af7add0e",
   "metadata": {},
   "outputs": [],
   "source": [
    "measures_df = pd.DataFrame(measure_data)"
   ]
  },
  {
   "cell_type": "markdown",
   "id": "a20b55cf-b8e1-4f45-bcff-29f0edcfff28",
   "metadata": {},
   "source": [
    "## Read in indicators"
   ]
  },
  {
   "cell_type": "markdown",
   "id": "920551f6-0cfc-425b-b2cc-d8f29f149419",
   "metadata": {},
   "source": [
    "### Function to read in indicator json, get measure name, and export to csv"
   ]
  },
  {
   "cell_type": "code",
   "execution_count": 195,
   "id": "a355ac58-7dcf-4753-9780-b6a1c0f11c52",
   "metadata": {},
   "outputs": [],
   "source": [
    "def get_measure_name(file_name, measures_df,output_name):\n",
    "    json_file = json.load(open(file_name))\n",
    "    df = pd.DataFrame.from_dict(json_file)\n",
    "    df_merged = pd.merge(df, measures_df, how='left', on = ['MeasureID'])\n",
    "    df_merged.to_csv(output_name, index = False)"
   ]
  },
  {
   "cell_type": "markdown",
   "id": "8173c8bf-69c7-4ee9-b23e-4f8899ab4e0d",
   "metadata": {},
   "source": [
    "### Iterate through list of indicators"
   ]
  },
  {
   "cell_type": "code",
   "execution_count": 197,
   "id": "76ce1cfd-63e0-4ce3-a8a7-d9e4d523c8dc",
   "metadata": {},
   "outputs": [],
   "source": [
    "indicator_list= [18, 57, 103,  100,  2023, 2024, 2025, 2026, 2027, 2028, 2108, 2120, 2121, 2122, 2124, 2132, 2147, 2149, 2191]"
   ]
  },
  {
   "cell_type": "code",
   "execution_count": 198,
   "id": "9fb78413-ebd8-4515-b0ce-be0845064c30",
   "metadata": {},
   "outputs": [],
   "source": [
    "for indicator in indicator_list:\n",
    "    file_name = 'data/' + str(indicator) + '.json'\n",
    "    output_name = str(indicator) + '.csv'\n",
    "    get_measure_name(file_name, measures_df, output_name )"
   ]
  }
 ],
 "metadata": {
  "kernelspec": {
   "display_name": "Python 3",
   "language": "python",
   "name": "python3"
  },
  "language_info": {
   "codemirror_mode": {
    "name": "ipython",
    "version": 3
   },
   "file_extension": ".py",
   "mimetype": "text/x-python",
   "name": "python",
   "nbconvert_exporter": "python",
   "pygments_lexer": "ipython3",
   "version": "3.8.8"
  }
 },
 "nbformat": 4,
 "nbformat_minor": 5
}

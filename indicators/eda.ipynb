{
 "cells": [
  {
   "cell_type": "code",
   "execution_count": 1,
   "id": "614da4ae-e4a1-4353-a049-9d3a4827c99b",
   "metadata": {},
   "outputs": [],
   "source": [
    "import pandas as pd"
   ]
  },
  {
   "cell_type": "code",
   "execution_count": 19,
   "id": "aa0409b3-c7d9-4ec2-80d1-fb3071fb3c9b",
   "metadata": {},
   "outputs": [],
   "source": [
    "import json\n",
    "import os\n",
    "import csv"
   ]
  },
  {
   "cell_type": "code",
   "execution_count": 3,
   "id": "7e9f4fcf-27e5-44e6-b836-aa94f8a1b5ec",
   "metadata": {},
   "outputs": [
    {
     "data": {
      "text/plain": [
       "'/repos/EHDP-data/indicators'"
      ]
     },
     "execution_count": 3,
     "metadata": {},
     "output_type": "execute_result"
    }
   ],
   "source": [
    "os.getcwd()"
   ]
  },
  {
   "cell_type": "code",
   "execution_count": 12,
   "id": "dc05d066-29bf-4b6b-a431-157b3afc5c96",
   "metadata": {},
   "outputs": [],
   "source": [
    "test = json.load(open(\"data/2120.json\"))"
   ]
  },
  {
   "cell_type": "code",
   "execution_count": 13,
   "id": "ea2b7172-a29d-4c3b-9724-62681c049709",
   "metadata": {},
   "outputs": [],
   "source": [
    "df = pd.DataFrame.from_dict(test)"
   ]
  },
  {
   "cell_type": "code",
   "execution_count": 36,
   "id": "afb62bbe-ee3a-490e-a450-62c79a227e18",
   "metadata": {},
   "outputs": [],
   "source": [
    "def read_csv_as_index(csv_file):\n",
    "    index = {}\n",
    "    with open(csv_file, 'r') as file:\n",
    "        reader = csv.DictReader(file)\n",
    "        for row in reader:\n",
    "            index[row['GeoID']] = row\n",
    "    return index"
   ]
  },
  {
   "cell_type": "code",
   "execution_count": 21,
   "id": "d2199d58-a31c-4b88-b8a6-e80cc8fd68de",
   "metadata": {},
   "outputs": [],
   "source": [
    "csv_file = '../geography/GeoLookup.csv'"
   ]
  },
  {
   "cell_type": "code",
   "execution_count": 162,
   "id": "32863907-2a8c-471e-b386-0c0ae6c44125",
   "metadata": {},
   "outputs": [],
   "source": []
  },
  {
   "cell_type": "code",
   "execution_count": 25,
   "id": "c6804099-fcc6-480e-93e7-e6bcda7beed0",
   "metadata": {},
   "outputs": [],
   "source": [
    "topojson_file = '../geography/NTA_2020.topo.json'"
   ]
  },
  {
   "cell_type": "code",
   "execution_count": 163,
   "id": "310a2e9f-74d7-41cb-a8be-7bd91f9595c9",
   "metadata": {},
   "outputs": [],
   "source": []
  },
  {
   "cell_type": "code",
   "execution_count": 157,
   "id": "14c4854f-6d33-4a4d-9e98-66f2934e1470",
   "metadata": {},
   "outputs": [],
   "source": [
    "file_list = ['data/2120.json', 'data/2121.json', 'data/2122.json', 'data/2124.json', 'data/2132.json']"
   ]
  },
  {
   "cell_type": "code",
   "execution_count": 175,
   "id": "9c08e2c6-46b0-45f5-8d6e-f33081210e4f",
   "metadata": {},
   "outputs": [],
   "source": [
    "json_file = 'data/2124.json'\n",
    "output_file = 'joined_data_2124.topojson'\n",
    "\n",
    "def join_json_to_topojson(json_file, topojson_file, csv_file, output_file):\n",
    "    # Step 1: Read the CSV file and store index values\n",
    "    index = read_csv_as_index(csv_file)\n",
    "\n",
    "    # Step 2: Read the JSON file\n",
    "    with open(json_file, 'r') as file:\n",
    "        json_data = json.load(file)\n",
    "\n",
    "    # Step 3: Read the TopoJSON file\n",
    "    with open(topojson_file, 'r') as file:\n",
    "        topojson_data = json.load(file)\n",
    "\n",
    "    # Step 4: Iterate through objects in TopoJSON\n",
    "    for object_key in topojson_data['objects']:\n",
    "        object_data = topojson_data['objects'][object_key]\n",
    "        if object_data['type'] == 'GeometryCollection':\n",
    "            # Iterate through geometries in GeometryCollection\n",
    "            for geometry in object_data['geometries']:\n",
    "                # Step 5: Retrieve corresponding data from JSON using index values\n",
    "                id_value = geometry['properties']['id']\n",
    "                if id_value in index:\n",
    "                    json_entry = index[id_value]\n",
    "                    json_entry['value'] = json_data[int(id_value)]['Value']\n",
    "                    json_entry['measure_id'] = json_data[int(id_value)]['MeasureID']\n",
    "                    json_entry['time'] = json_data[int(id_value)]['Time']\n",
    "                    # Step 6: Add retrieved data to TopoJSON properties\n",
    "                    geometry['properties'] = json_entry\n",
    "\n",
    "    # Step 7: Write updated TopoJSON data to a new file\n",
    "    with open(output_file, 'w') as file:\n",
    "        json.dump(topojson_data, file)"
   ]
  },
  {
   "cell_type": "code",
   "execution_count": 176,
   "id": "03d502ee-75ff-4048-a597-64d5d133ccac",
   "metadata": {},
   "outputs": [],
   "source": [
    "join_json_to_topojson(json_file, topojson_file, csv_file, output_file)\n"
   ]
  },
  {
   "cell_type": "code",
   "execution_count": null,
   "id": "eeac252a-c9d6-4eed-ac7c-e24e86b87f82",
   "metadata": {},
   "outputs": [],
   "source": []
  }
 ],
 "metadata": {
  "kernelspec": {
   "display_name": "Python 3",
   "language": "python",
   "name": "python3"
  },
  "language_info": {
   "codemirror_mode": {
    "name": "ipython",
    "version": 3
   },
   "file_extension": ".py",
   "mimetype": "text/x-python",
   "name": "python",
   "nbconvert_exporter": "python",
   "pygments_lexer": "ipython3",
   "version": "3.8.8"
  }
 },
 "nbformat": 4,
 "nbformat_minor": 5
}

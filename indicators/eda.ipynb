{
 "cells": [
  {
   "cell_type": "code",
   "execution_count": 127,
   "id": "614da4ae-e4a1-4353-a049-9d3a4827c99b",
   "metadata": {},
   "outputs": [],
   "source": [
    "import pandas as pd"
   ]
  },
  {
   "cell_type": "code",
   "execution_count": 128,
   "id": "aa0409b3-c7d9-4ec2-80d1-fb3071fb3c9b",
   "metadata": {},
   "outputs": [],
   "source": [
    "import json\n",
    "import os\n",
    "import csv"
   ]
  },
  {
   "cell_type": "code",
   "execution_count": 129,
   "id": "7e9f4fcf-27e5-44e6-b836-aa94f8a1b5ec",
   "metadata": {},
   "outputs": [
    {
     "data": {
      "text/plain": [
       "'/repos/EHDP-data/indicators'"
      ]
     },
     "execution_count": 129,
     "metadata": {},
     "output_type": "execute_result"
    }
   ],
   "source": [
    "os.getcwd()"
   ]
  },
  {
   "cell_type": "code",
   "execution_count": 130,
   "id": "dc05d066-29bf-4b6b-a431-157b3afc5c96",
   "metadata": {},
   "outputs": [],
   "source": [
    "test = json.load(open(\"data/2120.json\"))"
   ]
  },
  {
   "cell_type": "code",
   "execution_count": 131,
   "id": "ea2b7172-a29d-4c3b-9724-62681c049709",
   "metadata": {},
   "outputs": [],
   "source": [
    "df = pd.DataFrame.from_dict(test)"
   ]
  },
  {
   "cell_type": "code",
   "execution_count": 200,
   "id": "afb62bbe-ee3a-490e-a450-62c79a227e18",
   "metadata": {},
   "outputs": [],
   "source": [
    "def read_csv_as_index(csv_file):\n",
    "    index = {}\n",
    "    with open(csv_file, 'r') as file:\n",
    "        reader = csv.DictReader(file)\n",
    "        for row in reader:\n",
    "            index[row['GeoID']] = row\n",
    "    return index"
   ]
  },
  {
   "cell_type": "code",
   "execution_count": 201,
   "id": "d2199d58-a31c-4b88-b8a6-e80cc8fd68de",
   "metadata": {},
   "outputs": [],
   "source": [
    "csv_file = '../geography/GeoLookup.csv'"
   ]
  },
  {
   "cell_type": "code",
   "execution_count": null,
   "id": "32863907-2a8c-471e-b386-0c0ae6c44125",
   "metadata": {},
   "outputs": [],
   "source": []
  },
  {
   "cell_type": "code",
   "execution_count": 273,
   "id": "c6804099-fcc6-480e-93e7-e6bcda7beed0",
   "metadata": {},
   "outputs": [],
   "source": [
    "topojson_file = '../geography/CD.topo.json'"
   ]
  },
  {
   "cell_type": "code",
   "execution_count": 274,
   "id": "310a2e9f-74d7-41cb-a8be-7bd91f9595c9",
   "metadata": {},
   "outputs": [],
   "source": [
    "with open(topojson_file, 'r') as file:\n",
    "        topojson_data = json.load(file)"
   ]
  },
  {
   "cell_type": "code",
   "execution_count": 204,
   "id": "14c4854f-6d33-4a4d-9e98-66f2934e1470",
   "metadata": {},
   "outputs": [],
   "source": [
    "file_list = ['data/2120.json', 'data/2121.json', 'data/2122.json', 'data/2124.json', 'data/2132.json']"
   ]
  },
  {
   "cell_type": "code",
   "execution_count": 255,
   "id": "92b79b15-1d0d-4897-97c2-2e5b7085a3ad",
   "metadata": {},
   "outputs": [],
   "source": [
    "index = read_csv_as_index(csv_file)"
   ]
  },
  {
   "cell_type": "code",
   "execution_count": 277,
   "id": "9c08e2c6-46b0-45f5-8d6e-f33081210e4f",
   "metadata": {},
   "outputs": [],
   "source": [
    "json_file = 'data/2120.json'\n",
    "output_file = 'joined_data_2120.topojson'\n",
    "\n",
    "def join_json_to_topojson(json_file, topojson_file, csv_file, output_file):\n",
    "    # Step 1: Read the CSV file and store index values\n",
    "    index = read_csv_as_index(csv_file)\n",
    "\n",
    "    # Step 2: Read the JSON file\n",
    "    with open(json_file, 'r') as file:\n",
    "        json_data = json.load(file)\n",
    "\n",
    "    # Step 3: Read the TopoJSON file\n",
    "    with open(topojson_file, 'r') as file:\n",
    "        topojson_data = json.load(file)\n",
    "\n",
    "    # Step 4: Iterate through objects in TopoJSON\n",
    "    for object_key in topojson_data['objects']:\n",
    "        object_data = topojson_data['objects'][object_key]\n",
    "        if object_data['type'] == 'GeometryCollection':\n",
    "            # Iterate through geometries in GeometryCollection\n",
    "            for geometry in object_data['geometries']:\n",
    "                # Step 5: Retrieve corresponding data from JSON using index values\n",
    "                id_value = geometry['properties']['GEOCODE']\n",
    "                if id_value in index:\n",
    "                    json_entry = index[id_value]\n",
    "                    json_entry['value'] = json_data[int(id_value)]['Value']\n",
    "                    json_entry['measure_id'] = json_data[int(id_value)]['MeasureID']\n",
    "                    json_entry['time'] = json_data[int(id_value)]['Time']\n",
    "                    # Step 6: Add retrieved data to TopoJSON properties\n",
    "                    geometry['properties'] = json_entry\n",
    "\n",
    "    # Step 7: Write updated TopoJSON data to a new file\n",
    "    with open(output_file, 'w') as file:\n",
    "        json.dump(topojson_data, file)"
   ]
  },
  {
   "cell_type": "code",
   "execution_count": 278,
   "id": "03d502ee-75ff-4048-a597-64d5d133ccac",
   "metadata": {},
   "outputs": [],
   "source": [
    "join_json_to_topojson(json_file, topojson_file, csv_file, output_file)\n"
   ]
  },
  {
   "cell_type": "markdown",
   "id": "9e48d62d-7256-4d8e-ad0b-a9bf1f19ce13",
   "metadata": {},
   "source": [
    "## Checking data file for indicators"
   ]
  },
  {
   "cell_type": "code",
   "execution_count": 161,
   "id": "841f7d23-5a05-45ee-af12-db2364d6b407",
   "metadata": {},
   "outputs": [
    {
     "data": {
      "text/plain": [
       "array([  1,   2,   3,   4,   5, 101, 102, 103, 104, 105, 106, 107, 201,\n",
       "       202, 203, 204, 205, 206, 207, 208, 209, 210, 211, 301, 302, 303,\n",
       "       304, 305, 306, 307, 308, 309, 310, 401, 402, 403, 404, 405, 406,\n",
       "       407, 408, 409, 410, 501, 502, 503, 504])"
      ]
     },
     "execution_count": 161,
     "metadata": {},
     "output_type": "execute_result"
    }
   ],
   "source": [
    "df['GeoID'].unique()"
   ]
  },
  {
   "cell_type": "code",
   "execution_count": 162,
   "id": "a4c53881-ae22-4d6c-99dd-c8433996864f",
   "metadata": {},
   "outputs": [
    {
     "data": {
      "text/html": [
       "<div>\n",
       "<style scoped>\n",
       "    .dataframe tbody tr th:only-of-type {\n",
       "        vertical-align: middle;\n",
       "    }\n",
       "\n",
       "    .dataframe tbody tr th {\n",
       "        vertical-align: top;\n",
       "    }\n",
       "\n",
       "    .dataframe thead th {\n",
       "        text-align: right;\n",
       "    }\n",
       "</style>\n",
       "<table border=\"1\" class=\"dataframe\">\n",
       "  <thead>\n",
       "    <tr style=\"text-align: right;\">\n",
       "      <th></th>\n",
       "      <th>MeasureID</th>\n",
       "      <th>GeoType</th>\n",
       "      <th>GeoID</th>\n",
       "      <th>Time</th>\n",
       "      <th>ban_summary_flag</th>\n",
       "      <th>Value</th>\n",
       "      <th>CI</th>\n",
       "      <th>Note</th>\n",
       "      <th>DisplayValue</th>\n",
       "    </tr>\n",
       "  </thead>\n",
       "  <tbody>\n",
       "    <tr>\n",
       "      <th>0</th>\n",
       "      <td>651</td>\n",
       "      <td>Borough</td>\n",
       "      <td>1</td>\n",
       "      <td>2015-2017</td>\n",
       "      <td>0</td>\n",
       "      <td>21.0000</td>\n",
       "      <td></td>\n",
       "      <td></td>\n",
       "      <td>21.0</td>\n",
       "    </tr>\n",
       "    <tr>\n",
       "      <th>1</th>\n",
       "      <td>651</td>\n",
       "      <td>Borough</td>\n",
       "      <td>1</td>\n",
       "      <td>2012-2014</td>\n",
       "      <td>0</td>\n",
       "      <td>15.4881</td>\n",
       "      <td></td>\n",
       "      <td></td>\n",
       "      <td>15.5</td>\n",
       "    </tr>\n",
       "    <tr>\n",
       "      <th>2</th>\n",
       "      <td>651</td>\n",
       "      <td>Borough</td>\n",
       "      <td>1</td>\n",
       "      <td>2009-2011</td>\n",
       "      <td>0</td>\n",
       "      <td>18.8000</td>\n",
       "      <td></td>\n",
       "      <td></td>\n",
       "      <td>18.8</td>\n",
       "    </tr>\n",
       "    <tr>\n",
       "      <th>3</th>\n",
       "      <td>651</td>\n",
       "      <td>Borough</td>\n",
       "      <td>1</td>\n",
       "      <td>2005-2007</td>\n",
       "      <td>0</td>\n",
       "      <td>31.3000</td>\n",
       "      <td></td>\n",
       "      <td></td>\n",
       "      <td>31.3</td>\n",
       "    </tr>\n",
       "    <tr>\n",
       "      <th>4</th>\n",
       "      <td>651</td>\n",
       "      <td>Borough</td>\n",
       "      <td>2</td>\n",
       "      <td>2015-2017</td>\n",
       "      <td>0</td>\n",
       "      <td>18.2000</td>\n",
       "      <td></td>\n",
       "      <td></td>\n",
       "      <td>18.2</td>\n",
       "    </tr>\n",
       "  </tbody>\n",
       "</table>\n",
       "</div>"
      ],
      "text/plain": [
       "   MeasureID  GeoType  GeoID       Time  ban_summary_flag    Value CI Note  \\\n",
       "0        651  Borough      1  2015-2017                 0  21.0000           \n",
       "1        651  Borough      1  2012-2014                 0  15.4881           \n",
       "2        651  Borough      1  2009-2011                 0  18.8000           \n",
       "3        651  Borough      1  2005-2007                 0  31.3000           \n",
       "4        651  Borough      2  2015-2017                 0  18.2000           \n",
       "\n",
       "  DisplayValue  \n",
       "0         21.0  \n",
       "1         15.5  \n",
       "2         18.8  \n",
       "3         31.3  \n",
       "4         18.2  "
      ]
     },
     "execution_count": 162,
     "metadata": {},
     "output_type": "execute_result"
    }
   ],
   "source": [
    "df.head()"
   ]
  },
  {
   "cell_type": "markdown",
   "id": "a1110a75-00f7-4018-9ee3-9f6040efb194",
   "metadata": {},
   "source": [
    "## Read joined data to check"
   ]
  },
  {
   "cell_type": "code",
   "execution_count": 279,
   "id": "cd8bb2f6-3e0c-4313-8db3-26c12be625d3",
   "metadata": {},
   "outputs": [],
   "source": [
    "joined = json.load(open(\"joined_data_2120.topojson\"))"
   ]
  },
  {
   "cell_type": "code",
   "execution_count": 280,
   "id": "0cf3f989-8bf4-4044-b835-193be8c57736",
   "metadata": {},
   "outputs": [],
   "source": [
    "properties = [geometry['properties'] for geometry in joined['objects']['collection']['geometries']]"
   ]
  },
  {
   "cell_type": "code",
   "execution_count": 281,
   "id": "a0db327b-e1be-400f-a981-f6b48d9e9534",
   "metadata": {},
   "outputs": [],
   "source": [
    "joined_df = pd.DataFrame(properties)"
   ]
  },
  {
   "cell_type": "code",
   "execution_count": 282,
   "id": "36bc55a0-a932-453b-9c66-31b29c654402",
   "metadata": {},
   "outputs": [
    {
     "data": {
      "text/html": [
       "<div>\n",
       "<style scoped>\n",
       "    .dataframe tbody tr th:only-of-type {\n",
       "        vertical-align: middle;\n",
       "    }\n",
       "\n",
       "    .dataframe tbody tr th {\n",
       "        vertical-align: top;\n",
       "    }\n",
       "\n",
       "    .dataframe thead th {\n",
       "        text-align: right;\n",
       "    }\n",
       "</style>\n",
       "<table border=\"1\" class=\"dataframe\">\n",
       "  <thead>\n",
       "    <tr style=\"text-align: right;\">\n",
       "      <th></th>\n",
       "      <th>GEOCODE</th>\n",
       "      <th>GEONAME</th>\n",
       "      <th>BOROUGH</th>\n",
       "    </tr>\n",
       "  </thead>\n",
       "  <tbody>\n",
       "    <tr>\n",
       "      <th>0</th>\n",
       "      <td>101</td>\n",
       "      <td>Financial District (CD1)</td>\n",
       "      <td>Manhattan</td>\n",
       "    </tr>\n",
       "    <tr>\n",
       "      <th>1</th>\n",
       "      <td>102</td>\n",
       "      <td>Greenwich Village and Soho (CD2)</td>\n",
       "      <td>Manhattan</td>\n",
       "    </tr>\n",
       "    <tr>\n",
       "      <th>2</th>\n",
       "      <td>103</td>\n",
       "      <td>Lower East Side and Chinatown (CD3)</td>\n",
       "      <td>Manhattan</td>\n",
       "    </tr>\n",
       "    <tr>\n",
       "      <th>3</th>\n",
       "      <td>104</td>\n",
       "      <td>Clinton and Chelsea (CD4)</td>\n",
       "      <td>Manhattan</td>\n",
       "    </tr>\n",
       "    <tr>\n",
       "      <th>4</th>\n",
       "      <td>105</td>\n",
       "      <td>Midtown (CD5)</td>\n",
       "      <td>Manhattan</td>\n",
       "    </tr>\n",
       "  </tbody>\n",
       "</table>\n",
       "</div>"
      ],
      "text/plain": [
       "   GEOCODE                              GEONAME    BOROUGH\n",
       "0      101             Financial District (CD1)  Manhattan\n",
       "1      102     Greenwich Village and Soho (CD2)  Manhattan\n",
       "2      103  Lower East Side and Chinatown (CD3)  Manhattan\n",
       "3      104            Clinton and Chelsea (CD4)  Manhattan\n",
       "4      105                        Midtown (CD5)  Manhattan"
      ]
     },
     "execution_count": 282,
     "metadata": {},
     "output_type": "execute_result"
    }
   ],
   "source": [
    "joined_df.head()"
   ]
  },
  {
   "cell_type": "code",
   "execution_count": null,
   "id": "9ee6a374-3373-4ee2-a2bd-c3291896d4dd",
   "metadata": {},
   "outputs": [],
   "source": []
  },
  {
   "cell_type": "markdown",
   "id": "cbd8f690-ffbc-4a67-b02c-422838287289",
   "metadata": {},
   "source": [
    "## Checking Topojson file"
   ]
  },
  {
   "cell_type": "code",
   "execution_count": 191,
   "id": "b0fa5d1c-405d-499f-b864-7b6cb3ddbfe3",
   "metadata": {},
   "outputs": [],
   "source": [
    "properties2 = [geometry['properties'] for geometry in topojson_data['objects']['collection']['geometries']]"
   ]
  },
  {
   "cell_type": "code",
   "execution_count": 197,
   "id": "a02e4d93-e28c-480b-8b26-7534acf9adcc",
   "metadata": {},
   "outputs": [
    {
     "data": {
      "text/plain": [
       "101"
      ]
     },
     "execution_count": 197,
     "metadata": {},
     "output_type": "execute_result"
    }
   ],
   "source": [
    "topojson_data['objects']['collection']['geometries'][0]['properties']['GEOCODE']"
   ]
  },
  {
   "cell_type": "code",
   "execution_count": 192,
   "id": "ae95fa73-39d3-4a2c-9ef0-384d709ba128",
   "metadata": {},
   "outputs": [],
   "source": [
    "topo_data = pd.DataFrame(properties2)"
   ]
  },
  {
   "cell_type": "code",
   "execution_count": 193,
   "id": "30eafc00-c7d2-4d43-b6b3-b9c534a725fd",
   "metadata": {},
   "outputs": [
    {
     "data": {
      "text/html": [
       "<div>\n",
       "<style scoped>\n",
       "    .dataframe tbody tr th:only-of-type {\n",
       "        vertical-align: middle;\n",
       "    }\n",
       "\n",
       "    .dataframe tbody tr th {\n",
       "        vertical-align: top;\n",
       "    }\n",
       "\n",
       "    .dataframe thead th {\n",
       "        text-align: right;\n",
       "    }\n",
       "</style>\n",
       "<table border=\"1\" class=\"dataframe\">\n",
       "  <thead>\n",
       "    <tr style=\"text-align: right;\">\n",
       "      <th></th>\n",
       "      <th>GEOCODE</th>\n",
       "      <th>GEONAME</th>\n",
       "      <th>BOROUGH</th>\n",
       "    </tr>\n",
       "  </thead>\n",
       "  <tbody>\n",
       "    <tr>\n",
       "      <th>0</th>\n",
       "      <td>101</td>\n",
       "      <td>Financial District (CD1)</td>\n",
       "      <td>Manhattan</td>\n",
       "    </tr>\n",
       "    <tr>\n",
       "      <th>1</th>\n",
       "      <td>102</td>\n",
       "      <td>Greenwich Village and Soho (CD2)</td>\n",
       "      <td>Manhattan</td>\n",
       "    </tr>\n",
       "    <tr>\n",
       "      <th>2</th>\n",
       "      <td>103</td>\n",
       "      <td>Lower East Side and Chinatown (CD3)</td>\n",
       "      <td>Manhattan</td>\n",
       "    </tr>\n",
       "    <tr>\n",
       "      <th>3</th>\n",
       "      <td>104</td>\n",
       "      <td>Clinton and Chelsea (CD4)</td>\n",
       "      <td>Manhattan</td>\n",
       "    </tr>\n",
       "    <tr>\n",
       "      <th>4</th>\n",
       "      <td>105</td>\n",
       "      <td>Midtown (CD5)</td>\n",
       "      <td>Manhattan</td>\n",
       "    </tr>\n",
       "  </tbody>\n",
       "</table>\n",
       "</div>"
      ],
      "text/plain": [
       "   GEOCODE                              GEONAME    BOROUGH\n",
       "0      101             Financial District (CD1)  Manhattan\n",
       "1      102     Greenwich Village and Soho (CD2)  Manhattan\n",
       "2      103  Lower East Side and Chinatown (CD3)  Manhattan\n",
       "3      104            Clinton and Chelsea (CD4)  Manhattan\n",
       "4      105                        Midtown (CD5)  Manhattan"
      ]
     },
     "execution_count": 193,
     "metadata": {},
     "output_type": "execute_result"
    }
   ],
   "source": [
    "topo_data.head()"
   ]
  },
  {
   "cell_type": "code",
   "execution_count": 164,
   "id": "a07df5bd-09d7-4673-9a9e-ca036162391e",
   "metadata": {},
   "outputs": [],
   "source": [
    "geo = pd.read_csv(csv_file)"
   ]
  },
  {
   "cell_type": "code",
   "execution_count": 118,
   "id": "55f34bd4-8aae-46dd-b725-d71b4381dc22",
   "metadata": {},
   "outputs": [],
   "source": [
    "sub = geo[geo['GeoType'] == 'Subboro']"
   ]
  },
  {
   "cell_type": "code",
   "execution_count": 115,
   "id": "98857820-a79d-4b50-89f3-b12fd67ee845",
   "metadata": {},
   "outputs": [
    {
     "data": {
      "text/html": [
       "<div>\n",
       "<style scoped>\n",
       "    .dataframe tbody tr th:only-of-type {\n",
       "        vertical-align: middle;\n",
       "    }\n",
       "\n",
       "    .dataframe tbody tr th {\n",
       "        vertical-align: top;\n",
       "    }\n",
       "\n",
       "    .dataframe thead th {\n",
       "        text-align: right;\n",
       "    }\n",
       "</style>\n",
       "<table border=\"1\" class=\"dataframe\">\n",
       "  <thead>\n",
       "    <tr style=\"text-align: right;\">\n",
       "      <th></th>\n",
       "      <th>GeoType</th>\n",
       "      <th>GeoTypeDesc</th>\n",
       "      <th>GeoTypeShortDesc</th>\n",
       "      <th>GeoID</th>\n",
       "      <th>Name</th>\n",
       "      <th>BoroID</th>\n",
       "      <th>Borough</th>\n",
       "      <th>Lat</th>\n",
       "      <th>Long</th>\n",
       "    </tr>\n",
       "  </thead>\n",
       "  <tbody>\n",
       "    <tr>\n",
       "      <th>2</th>\n",
       "      <td>Borough</td>\n",
       "      <td>Borough</td>\n",
       "      <td>Borough</td>\n",
       "      <td>2</td>\n",
       "      <td>Brooklyn</td>\n",
       "      <td>2.0</td>\n",
       "      <td>Brooklyn</td>\n",
       "      <td>40.6447</td>\n",
       "      <td>-73.9479</td>\n",
       "    </tr>\n",
       "    <tr>\n",
       "      <th>83</th>\n",
       "      <td>Subboro</td>\n",
       "      <td>Sub-borough/PUMA</td>\n",
       "      <td>Neighborhood (Sub-borough/PUMA)</td>\n",
       "      <td>2</td>\n",
       "      <td>Morrisania/East Tremont</td>\n",
       "      <td>1.0</td>\n",
       "      <td>Bronx</td>\n",
       "      <td>40.8454</td>\n",
       "      <td>-73.8876</td>\n",
       "    </tr>\n",
       "  </tbody>\n",
       "</table>\n",
       "</div>"
      ],
      "text/plain": [
       "    GeoType       GeoTypeDesc                 GeoTypeShortDesc  GeoID  \\\n",
       "2   Borough           Borough                          Borough      2   \n",
       "83  Subboro  Sub-borough/PUMA  Neighborhood (Sub-borough/PUMA)      2   \n",
       "\n",
       "                       Name  BoroID   Borough      Lat     Long  \n",
       "2                  Brooklyn     2.0  Brooklyn  40.6447 -73.9479  \n",
       "83  Morrisania/East Tremont     1.0     Bronx  40.8454 -73.8876  "
      ]
     },
     "execution_count": 115,
     "metadata": {},
     "output_type": "execute_result"
    }
   ],
   "source": [
    "ones"
   ]
  }
 ],
 "metadata": {
  "kernelspec": {
   "display_name": "Python 3",
   "language": "python",
   "name": "python3"
  },
  "language_info": {
   "codemirror_mode": {
    "name": "ipython",
    "version": 3
   },
   "file_extension": ".py",
   "mimetype": "text/x-python",
   "name": "python",
   "nbconvert_exporter": "python",
   "pygments_lexer": "ipython3",
   "version": "3.8.8"
  }
 },
 "nbformat": 4,
 "nbformat_minor": 5
}

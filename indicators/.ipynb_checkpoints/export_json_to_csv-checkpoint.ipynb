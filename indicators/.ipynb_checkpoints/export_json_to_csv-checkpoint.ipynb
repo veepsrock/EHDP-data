{
 "cells": [
  {
   "cell_type": "code",
   "execution_count": 2,
   "id": "614da4ae-e4a1-4353-a049-9d3a4827c99b",
   "metadata": {},
   "outputs": [],
   "source": [
    "import pandas as pd"
   ]
  },
  {
   "cell_type": "code",
   "execution_count": 3,
   "id": "aa0409b3-c7d9-4ec2-80d1-fb3071fb3c9b",
   "metadata": {},
   "outputs": [],
   "source": [
    "import json\n",
    "import os\n",
    "import csv"
   ]
  },
  {
   "cell_type": "code",
   "execution_count": 4,
   "id": "7e9f4fcf-27e5-44e6-b836-aa94f8a1b5ec",
   "metadata": {},
   "outputs": [
    {
     "data": {
      "text/plain": [
       "'/repos/EHDP-data/indicators'"
      ]
     },
     "execution_count": 4,
     "metadata": {},
     "output_type": "execute_result"
    }
   ],
   "source": [
    "os.getcwd()"
   ]
  },
  {
   "cell_type": "markdown",
   "id": "fefd13cf-7275-46e5-886c-61ddd78d8c04",
   "metadata": {},
   "source": [
    "## Reading in indicators file"
   ]
  },
  {
   "cell_type": "code",
   "execution_count": 11,
   "id": "dc05d066-29bf-4b6b-a431-157b3afc5c96",
   "metadata": {},
   "outputs": [],
   "source": [
    "indicators = json.load(open(\"indicators.json\"))"
   ]
  },
  {
   "cell_type": "code",
   "execution_count": 19,
   "id": "a54e7792-17ca-498a-ba71-a639ec1e58f4",
   "metadata": {},
   "outputs": [],
   "source": [
    "indicator_list= [18, 57, 2120, 2121, 2122, 2124, 2132]"
   ]
  },
  {
   "cell_type": "code",
   "execution_count": 72,
   "id": "a5ba5f6e-ad7f-49f0-b83a-aaed05174720",
   "metadata": {},
   "outputs": [],
   "source": [
    "indicator_data=[]\n",
    "for object_key in indicators:\n",
    "    if object_key['IndicatorID'] in indicator_list:\n",
    "        indicator={\n",
    "            'indicator_id' : object_key['IndicatorID'],\n",
    "            'indicator_name' : object_key['IndicatorName'],\n",
    "            'indicator_description' : object_key['IndicatorDescription'],\n",
    "        }\n",
    "        \n",
    "        measure_ids = set()\n",
    "        measure_names = set()\n",
    "        for measure in object_key['Measures']:\n",
    "            measure_ids.add(measure['MeasureID'])\n",
    "            measure_names.add(measure['MeasureName'])\n",
    "                              \n",
    "        for i, measure_id in enumerate(measure_ids, start =1):\n",
    "            indicator[f'measure_id_{i}'] = measure_id\n",
    "\n",
    "        for i, measure_name in enumerate(measure_names, start =1):\n",
    "            indicator[f'measure_name_{i}'] = measure_name\n",
    "            \n",
    "        indicator_data.append(indicator)\n",
    "        "
   ]
  },
  {
   "cell_type": "code",
   "execution_count": 74,
   "id": "02d70d72-c6b7-4bdd-a1f5-8ee82d276e4c",
   "metadata": {},
   "outputs": [],
   "source": [
    "indicator_df = pd.DataFrame(new_data)"
   ]
  },
  {
   "cell_type": "code",
   "execution_count": 76,
   "id": "d8da3eb1-dc35-41c2-8705-356ef1d8bd0a",
   "metadata": {},
   "outputs": [
    {
     "data": {
      "text/html": [
       "<div>\n",
       "<style scoped>\n",
       "    .dataframe tbody tr th:only-of-type {\n",
       "        vertical-align: middle;\n",
       "    }\n",
       "\n",
       "    .dataframe tbody tr th {\n",
       "        vertical-align: top;\n",
       "    }\n",
       "\n",
       "    .dataframe thead th {\n",
       "        text-align: right;\n",
       "    }\n",
       "</style>\n",
       "<table border=\"1\" class=\"dataframe\">\n",
       "  <thead>\n",
       "    <tr style=\"text-align: right;\">\n",
       "      <th></th>\n",
       "      <th>indicator_id</th>\n",
       "      <th>indicator_name</th>\n",
       "      <th>indicator_description</th>\n",
       "      <th>measure_id_1</th>\n",
       "      <th>measure_id_2</th>\n",
       "      <th>measure_id_3</th>\n",
       "      <th>measure_name_1</th>\n",
       "      <th>measure_name_2</th>\n",
       "      <th>measure_name_3</th>\n",
       "      <th>measure_id_4</th>\n",
       "      <th>measure_name_4</th>\n",
       "    </tr>\n",
       "  </thead>\n",
       "  <tbody>\n",
       "    <tr>\n",
       "      <th>0</th>\n",
       "      <td>18</td>\n",
       "      <td>Adults with asthma (past 12 months)</td>\n",
       "      <td>Asthma is a common disease characterized by br...</td>\n",
       "      <td>363</td>\n",
       "      <td>30</td>\n",
       "      <td>31.0</td>\n",
       "      <td>Asthma (adults), Age-adjusted percent</td>\n",
       "      <td>Asthma (adults), Percent</td>\n",
       "      <td>Asthma (adults), Number</td>\n",
       "      <td>NaN</td>\n",
       "      <td>NaN</td>\n",
       "    </tr>\n",
       "    <tr>\n",
       "      <th>1</th>\n",
       "      <td>57</td>\n",
       "      <td>Fine particles (PM 2.5) action days</td>\n",
       "      <td>&lt;p&gt;Fine particles are emitted by vehicles, bui...</td>\n",
       "      <td>785</td>\n",
       "      <td>786</td>\n",
       "      <td>788.0</td>\n",
       "      <td>PM2.5 (Fine particles) action days, PM2.5 annu...</td>\n",
       "      <td>PM2.5 (Fine particles) action days, General po...</td>\n",
       "      <td>PM2.5 (Fine particles) action days, PM2.5 98% ...</td>\n",
       "      <td>111.0</td>\n",
       "      <td>PM2.5 (Fine particles) action days, Sensitive ...</td>\n",
       "    </tr>\n",
       "    <tr>\n",
       "      <th>2</th>\n",
       "      <td>2120</td>\n",
       "      <td>Cardiovascular hospitalizations due to PM2.5 (...</td>\n",
       "      <td>PM2.5 can cause cardiovascular hospitalization...</td>\n",
       "      <td>1177</td>\n",
       "      <td>651</td>\n",
       "      <td>NaN</td>\n",
       "      <td>PM2.5 health burden (heart), Estimated annual ...</td>\n",
       "      <td>PM2.5 health burden (heart), Estimated annual ...</td>\n",
       "      <td>NaN</td>\n",
       "      <td>NaN</td>\n",
       "      <td>NaN</td>\n",
       "    </tr>\n",
       "    <tr>\n",
       "      <th>3</th>\n",
       "      <td>2121</td>\n",
       "      <td>Cardiac and respiratory deaths due to Ozone</td>\n",
       "      <td>Estimating heart and respiratory deaths that c...</td>\n",
       "      <td>652</td>\n",
       "      <td>1183</td>\n",
       "      <td>NaN</td>\n",
       "      <td>Deaths from ozone, Estimated annual rate</td>\n",
       "      <td>Deaths from ozone, Estimated annual number</td>\n",
       "      <td>NaN</td>\n",
       "      <td>NaN</td>\n",
       "      <td>NaN</td>\n",
       "    </tr>\n",
       "    <tr>\n",
       "      <th>4</th>\n",
       "      <td>2122</td>\n",
       "      <td>Asthma emergency departments visits due to Ozone</td>\n",
       "      <td>Ozone can cause asthma ED visits, which are pa...</td>\n",
       "      <td>1180</td>\n",
       "      <td>659</td>\n",
       "      <td>1179.0</td>\n",
       "      <td>Ozone asthma ED visits (children), Estimated a...</td>\n",
       "      <td>Ozone asthma ED visits (children), Estimated a...</td>\n",
       "      <td>Ozone asthma ED visits (children), Estimated a...</td>\n",
       "      <td>653.0</td>\n",
       "      <td>Ozone asthma ED visits (children), Estimated a...</td>\n",
       "    </tr>\n",
       "  </tbody>\n",
       "</table>\n",
       "</div>"
      ],
      "text/plain": [
       "   indicator_id                                     indicator_name  \\\n",
       "0            18                Adults with asthma (past 12 months)   \n",
       "1            57                Fine particles (PM 2.5) action days   \n",
       "2          2120  Cardiovascular hospitalizations due to PM2.5 (...   \n",
       "3          2121        Cardiac and respiratory deaths due to Ozone   \n",
       "4          2122   Asthma emergency departments visits due to Ozone   \n",
       "\n",
       "                               indicator_description  measure_id_1  \\\n",
       "0  Asthma is a common disease characterized by br...           363   \n",
       "1  <p>Fine particles are emitted by vehicles, bui...           785   \n",
       "2  PM2.5 can cause cardiovascular hospitalization...          1177   \n",
       "3  Estimating heart and respiratory deaths that c...           652   \n",
       "4  Ozone can cause asthma ED visits, which are pa...          1180   \n",
       "\n",
       "   measure_id_2  measure_id_3  \\\n",
       "0            30          31.0   \n",
       "1           786         788.0   \n",
       "2           651           NaN   \n",
       "3          1183           NaN   \n",
       "4           659        1179.0   \n",
       "\n",
       "                                      measure_name_1  \\\n",
       "0              Asthma (adults), Age-adjusted percent   \n",
       "1  PM2.5 (Fine particles) action days, PM2.5 annu...   \n",
       "2  PM2.5 health burden (heart), Estimated annual ...   \n",
       "3           Deaths from ozone, Estimated annual rate   \n",
       "4  Ozone asthma ED visits (children), Estimated a...   \n",
       "\n",
       "                                      measure_name_2  \\\n",
       "0                           Asthma (adults), Percent   \n",
       "1  PM2.5 (Fine particles) action days, General po...   \n",
       "2  PM2.5 health burden (heart), Estimated annual ...   \n",
       "3         Deaths from ozone, Estimated annual number   \n",
       "4  Ozone asthma ED visits (children), Estimated a...   \n",
       "\n",
       "                                      measure_name_3  measure_id_4  \\\n",
       "0                            Asthma (adults), Number           NaN   \n",
       "1  PM2.5 (Fine particles) action days, PM2.5 98% ...         111.0   \n",
       "2                                                NaN           NaN   \n",
       "3                                                NaN           NaN   \n",
       "4  Ozone asthma ED visits (children), Estimated a...         653.0   \n",
       "\n",
       "                                      measure_name_4  \n",
       "0                                                NaN  \n",
       "1  PM2.5 (Fine particles) action days, Sensitive ...  \n",
       "2                                                NaN  \n",
       "3                                                NaN  \n",
       "4  Ozone asthma ED visits (children), Estimated a...  "
      ]
     },
     "execution_count": 76,
     "metadata": {},
     "output_type": "execute_result"
    }
   ],
   "source": [
    "indicator_df.head()"
   ]
  },
  {
   "cell_type": "markdown",
   "id": "0d50bae0-2f63-46ee-9f7b-5ad9dbe92ef6",
   "metadata": {},
   "source": [
    "## Simplifying just measures data"
   ]
  },
  {
   "cell_type": "code",
   "execution_count": 108,
   "id": "d6670790-2aec-4194-b5e6-13cf3c6d7335",
   "metadata": {},
   "outputs": [],
   "source": [
    "measure_data=[]\n",
    "for object_key in indicators:\n",
    "    if object_key['IndicatorID'] in indicator_list:\n",
    "        for measure in object_key['Measures']:\n",
    "            measure={\n",
    "                'MeasureID': measure['MeasureID'],\n",
    "                'MeasureName' : measure['MeasureName']\n",
    "            }\n",
    "            measure_ids.add(measure['MeasureID'])\n",
    "            measure_names.add(measure['MeasureName'])\n",
    "            measure_data.append(measure)"
   ]
  },
  {
   "cell_type": "code",
   "execution_count": 109,
   "id": "314a66eb-11a1-455e-9a9f-9930af7add0e",
   "metadata": {},
   "outputs": [],
   "source": [
    "measures_df = pd.DataFrame(measure_data)"
   ]
  },
  {
   "cell_type": "code",
   "execution_count": 111,
   "id": "ffe32a16-295d-412d-996a-54fe87f4c188",
   "metadata": {},
   "outputs": [
    {
     "data": {
      "text/html": [
       "<div>\n",
       "<style scoped>\n",
       "    .dataframe tbody tr th:only-of-type {\n",
       "        vertical-align: middle;\n",
       "    }\n",
       "\n",
       "    .dataframe tbody tr th {\n",
       "        vertical-align: top;\n",
       "    }\n",
       "\n",
       "    .dataframe thead th {\n",
       "        text-align: right;\n",
       "    }\n",
       "</style>\n",
       "<table border=\"1\" class=\"dataframe\">\n",
       "  <thead>\n",
       "    <tr style=\"text-align: right;\">\n",
       "      <th></th>\n",
       "      <th>MeasureID</th>\n",
       "      <th>MeasureName</th>\n",
       "    </tr>\n",
       "  </thead>\n",
       "  <tbody>\n",
       "    <tr>\n",
       "      <th>0</th>\n",
       "      <td>30</td>\n",
       "      <td>Asthma (adults), Number</td>\n",
       "    </tr>\n",
       "    <tr>\n",
       "      <th>1</th>\n",
       "      <td>31</td>\n",
       "      <td>Asthma (adults), Age-adjusted percent</td>\n",
       "    </tr>\n",
       "    <tr>\n",
       "      <th>2</th>\n",
       "      <td>363</td>\n",
       "      <td>Asthma (adults), Percent</td>\n",
       "    </tr>\n",
       "    <tr>\n",
       "      <th>3</th>\n",
       "      <td>111</td>\n",
       "      <td>PM2.5 (Fine particles) action days, PM2.5 annu...</td>\n",
       "    </tr>\n",
       "    <tr>\n",
       "      <th>4</th>\n",
       "      <td>785</td>\n",
       "      <td>PM2.5 (Fine particles) action days, Sensitive ...</td>\n",
       "    </tr>\n",
       "  </tbody>\n",
       "</table>\n",
       "</div>"
      ],
      "text/plain": [
       "   MeasureID                                        MeasureName\n",
       "0         30                            Asthma (adults), Number\n",
       "1         31              Asthma (adults), Age-adjusted percent\n",
       "2        363                           Asthma (adults), Percent\n",
       "3        111  PM2.5 (Fine particles) action days, PM2.5 annu...\n",
       "4        785  PM2.5 (Fine particles) action days, Sensitive ..."
      ]
     },
     "execution_count": 111,
     "metadata": {},
     "output_type": "execute_result"
    }
   ],
   "source": [
    "measures_df.head()"
   ]
  },
  {
   "cell_type": "markdown",
   "id": "a20b55cf-b8e1-4f45-bcff-29f0edcfff28",
   "metadata": {},
   "source": [
    "## Read in indicators"
   ]
  },
  {
   "cell_type": "code",
   "execution_count": 134,
   "id": "c5d3bd36-8ec9-41ec-bdb2-8feeed3cfd80",
   "metadata": {},
   "outputs": [],
   "source": [
    "indicator_list= [18, 57, 2120, 2121, 2122, 2124, 2132]"
   ]
  },
  {
   "cell_type": "markdown",
   "id": "920551f6-0cfc-425b-b2cc-d8f29f149419",
   "metadata": {},
   "source": [
    "### Function to read in indicator json, get measure name, and export to csv"
   ]
  },
  {
   "cell_type": "code",
   "execution_count": 141,
   "id": "a355ac58-7dcf-4753-9780-b6a1c0f11c52",
   "metadata": {},
   "outputs": [],
   "source": [
    "def get_measure_name(file_name, measures_df,output_name):\n",
    "    json_file = json.load(open(file_name))\n",
    "    df = pd.DataFrame.from_dict(json_file)\n",
    "    df_merged = pd.merge(df, measures_df, how='left', on = ['MeasureID'])\n",
    "    df_merged.to_csv(output_name, index = False)"
   ]
  },
  {
   "cell_type": "markdown",
   "id": "8173c8bf-69c7-4ee9-b23e-4f8899ab4e0d",
   "metadata": {},
   "source": [
    "### Iterate through list of indicators"
   ]
  },
  {
   "cell_type": "code",
   "execution_count": 142,
   "id": "9fb78413-ebd8-4515-b0ce-be0845064c30",
   "metadata": {},
   "outputs": [],
   "source": [
    "for indicator in indicator_list:\n",
    "    file_name = 'data/' + str(indicator) + '.json'\n",
    "    output_name = str(indicator) + '.csv'\n",
    "    get_measure_name(file_name, measures_df, output_name )"
   ]
  }
 ],
 "metadata": {
  "kernelspec": {
   "display_name": "Python 3",
   "language": "python",
   "name": "python3"
  },
  "language_info": {
   "codemirror_mode": {
    "name": "ipython",
    "version": 3
   },
   "file_extension": ".py",
   "mimetype": "text/x-python",
   "name": "python",
   "nbconvert_exporter": "python",
   "pygments_lexer": "ipython3",
   "version": "3.8.8"
  }
 },
 "nbformat": 4,
 "nbformat_minor": 5
}

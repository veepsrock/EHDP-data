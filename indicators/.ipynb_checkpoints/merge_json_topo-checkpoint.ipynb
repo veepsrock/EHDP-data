{
 "cells": [
  {
   "cell_type": "code",
   "execution_count": 1,
   "id": "614da4ae-e4a1-4353-a049-9d3a4827c99b",
   "metadata": {},
   "outputs": [],
   "source": [
    "import pandas as pd"
   ]
  },
  {
   "cell_type": "code",
   "execution_count": 2,
   "id": "aa0409b3-c7d9-4ec2-80d1-fb3071fb3c9b",
   "metadata": {},
   "outputs": [],
   "source": [
    "import json\n",
    "import os\n",
    "import csv"
   ]
  },
  {
   "cell_type": "code",
   "execution_count": 3,
   "id": "7e9f4fcf-27e5-44e6-b836-aa94f8a1b5ec",
   "metadata": {},
   "outputs": [
    {
     "data": {
      "text/plain": [
       "'/repos/EHDP-data/indicators'"
      ]
     },
     "execution_count": 3,
     "metadata": {},
     "output_type": "execute_result"
    }
   ],
   "source": [
    "os.getcwd()"
   ]
  },
  {
   "cell_type": "markdown",
   "id": "fefd13cf-7275-46e5-886c-61ddd78d8c04",
   "metadata": {},
   "source": [
    "## Reading in indicators file"
   ]
  },
  {
   "cell_type": "code",
   "execution_count": 104,
   "id": "dc05d066-29bf-4b6b-a431-157b3afc5c96",
   "metadata": {},
   "outputs": [],
   "source": [
    "test = json.load(open(\"data/2120.json\"))"
   ]
  },
  {
   "cell_type": "code",
   "execution_count": 105,
   "id": "ea2b7172-a29d-4c3b-9724-62681c049709",
   "metadata": {},
   "outputs": [],
   "source": [
    "df = pd.DataFrame.from_dict(test)"
   ]
  },
  {
   "cell_type": "code",
   "execution_count": 106,
   "id": "2ad7a7fe-0ce8-4935-9976-d3cdea74b52e",
   "metadata": {},
   "outputs": [],
   "source": [
    "df.to_csv(\"2120.csv\", index = False)"
   ]
  },
  {
   "cell_type": "code",
   "execution_count": 107,
   "id": "71f39b77-7b1a-468d-8b0e-47756367c3a0",
   "metadata": {},
   "outputs": [
    {
     "data": {
      "text/plain": [
       "(768, 9)"
      ]
     },
     "execution_count": 107,
     "metadata": {},
     "output_type": "execute_result"
    }
   ],
   "source": [
    "df.shape"
   ]
  },
  {
   "cell_type": "code",
   "execution_count": 108,
   "id": "51c117c3-4bb7-4100-a2d5-eec9e9999eca",
   "metadata": {},
   "outputs": [
    {
     "data": {
      "text/plain": [
       "47"
      ]
     },
     "execution_count": 108,
     "metadata": {},
     "output_type": "execute_result"
    }
   ],
   "source": [
    "len(df['GeoID'].unique())"
   ]
  },
  {
   "cell_type": "code",
   "execution_count": 109,
   "id": "598c3677-c4d9-42d6-a106-ab0b7f12cb0b",
   "metadata": {},
   "outputs": [
    {
     "data": {
      "text/plain": [
       "array([  1,   2,   3,   4,   5, 101, 102, 103, 104, 105, 106, 107, 201,\n",
       "       202, 203, 204, 205, 206, 207, 208, 209, 210, 211, 301, 302, 303,\n",
       "       304, 305, 306, 307, 308, 309, 310, 401, 402, 403, 404, 405, 406,\n",
       "       407, 408, 409, 410, 501, 502, 503, 504])"
      ]
     },
     "execution_count": 109,
     "metadata": {},
     "output_type": "execute_result"
    }
   ],
   "source": [
    "df['GeoID'].unique()"
   ]
  },
  {
   "cell_type": "markdown",
   "id": "e12e1906-357c-4cb9-9159-bc4cec4bc0e4",
   "metadata": {},
   "source": [
    "## Reading in csv file as index"
   ]
  },
  {
   "cell_type": "code",
   "execution_count": 7,
   "id": "d2199d58-a31c-4b88-b8a6-e80cc8fd68de",
   "metadata": {},
   "outputs": [],
   "source": [
    "csv_file = '../geography/GeoLookup.csv'"
   ]
  },
  {
   "cell_type": "code",
   "execution_count": 8,
   "id": "afb62bbe-ee3a-490e-a450-62c79a227e18",
   "metadata": {},
   "outputs": [],
   "source": [
    "def read_csv_as_index(csv_file):\n",
    "    index = {}\n",
    "    with open(csv_file, 'r') as file:\n",
    "        reader = csv.DictReader(file)\n",
    "        for row in reader:\n",
    "            index[row['GeoID']] = row\n",
    "    return index"
   ]
  },
  {
   "cell_type": "code",
   "execution_count": 9,
   "id": "92b79b15-1d0d-4897-97c2-2e5b7085a3ad",
   "metadata": {},
   "outputs": [],
   "source": [
    "index = read_csv_as_index(csv_file)"
   ]
  },
  {
   "cell_type": "markdown",
   "id": "45f13932-0ae4-451e-babe-8da94e0a6115",
   "metadata": {},
   "source": [
    "## Merging files"
   ]
  },
  {
   "cell_type": "code",
   "execution_count": 110,
   "id": "babe3fbb-2500-47aa-b3a1-e3e99f0d0388",
   "metadata": {},
   "outputs": [],
   "source": [
    "topojson_file = '../geography/UHF42.topo.json'\n",
    "json_file = 'data/2120.json'\n",
    "output_file = 'joined_data_2120.topojson'"
   ]
  },
  {
   "cell_type": "code",
   "execution_count": 117,
   "id": "9c08e2c6-46b0-45f5-8d6e-f33081210e4f",
   "metadata": {},
   "outputs": [],
   "source": [
    "def join_json_to_topojson(json_file, topojson_file, csv_file, output_file):\n",
    "    # Step 1: Read the CSV file and store index values\n",
    "    index = read_csv_as_index(csv_file)\n",
    "\n",
    "    # Step 2: Read the JSON file\n",
    "    with open(json_file, 'r') as file:\n",
    "        json_data = json.load(file)\n",
    "\n",
    "    # Step 3: Read the TopoJSON file\n",
    "    with open(topojson_file, 'r') as file:\n",
    "        topojson_data = json.load(file)\n",
    "\n",
    "    # Step 4: Iterate through objects in TopoJSON\n",
    "    for object_key in topojson_data['objects']:\n",
    "        object_data = topojson_data['objects'][object_key]\n",
    "        if object_data['type'] == 'GeometryCollection':\n",
    "            # Iterate through geometries in GeometryCollection\n",
    "            for geometry in object_data['geometries']:\n",
    "                # Step 5: Retrieve corresponding data from JSON using index values\n",
    "                id_value = geometry['properties']['GEOCODE']\n",
    "                if id_value in index:\n",
    "                    json_entry = index[id_value]\n",
    "                    json_entry['value'] = json_data[int(id_value)]['Value']\n",
    "                    json_entry['measure_id'] = json_data[int(id_value)]['MeasureID']\n",
    "                    json_entry['time'] = json_data[int(id_value)]['Time']\n",
    "                    # Step 6: Add retrieved data to TopoJSON properties\n",
    "                    geometry['properties'] = json_entry\n",
    "\n",
    "    # Step 7: Write updated TopoJSON data to a new file\n",
    "    with open(output_file, 'w') as file:\n",
    "        json.dump(topojson_data, file)"
   ]
  },
  {
   "cell_type": "code",
   "execution_count": 118,
   "id": "03d502ee-75ff-4048-a597-64d5d133ccac",
   "metadata": {},
   "outputs": [],
   "source": [
    "join_json_to_topojson(json_file, topojson_file, csv_file, output_file)\n"
   ]
  },
  {
   "cell_type": "markdown",
   "id": "9e48d62d-7256-4d8e-ad0b-a9bf1f19ce13",
   "metadata": {},
   "source": [
    "## Checking data file for indicators"
   ]
  },
  {
   "cell_type": "code",
   "execution_count": 161,
   "id": "841f7d23-5a05-45ee-af12-db2364d6b407",
   "metadata": {},
   "outputs": [
    {
     "data": {
      "text/plain": [
       "array([  1,   2,   3,   4,   5, 101, 102, 103, 104, 105, 106, 107, 201,\n",
       "       202, 203, 204, 205, 206, 207, 208, 209, 210, 211, 301, 302, 303,\n",
       "       304, 305, 306, 307, 308, 309, 310, 401, 402, 403, 404, 405, 406,\n",
       "       407, 408, 409, 410, 501, 502, 503, 504])"
      ]
     },
     "execution_count": 161,
     "metadata": {},
     "output_type": "execute_result"
    }
   ],
   "source": [
    "df['GeoID'].unique()"
   ]
  },
  {
   "cell_type": "code",
   "execution_count": 162,
   "id": "a4c53881-ae22-4d6c-99dd-c8433996864f",
   "metadata": {},
   "outputs": [
    {
     "data": {
      "text/html": [
       "<div>\n",
       "<style scoped>\n",
       "    .dataframe tbody tr th:only-of-type {\n",
       "        vertical-align: middle;\n",
       "    }\n",
       "\n",
       "    .dataframe tbody tr th {\n",
       "        vertical-align: top;\n",
       "    }\n",
       "\n",
       "    .dataframe thead th {\n",
       "        text-align: right;\n",
       "    }\n",
       "</style>\n",
       "<table border=\"1\" class=\"dataframe\">\n",
       "  <thead>\n",
       "    <tr style=\"text-align: right;\">\n",
       "      <th></th>\n",
       "      <th>MeasureID</th>\n",
       "      <th>GeoType</th>\n",
       "      <th>GeoID</th>\n",
       "      <th>Time</th>\n",
       "      <th>ban_summary_flag</th>\n",
       "      <th>Value</th>\n",
       "      <th>CI</th>\n",
       "      <th>Note</th>\n",
       "      <th>DisplayValue</th>\n",
       "    </tr>\n",
       "  </thead>\n",
       "  <tbody>\n",
       "    <tr>\n",
       "      <th>0</th>\n",
       "      <td>651</td>\n",
       "      <td>Borough</td>\n",
       "      <td>1</td>\n",
       "      <td>2015-2017</td>\n",
       "      <td>0</td>\n",
       "      <td>21.0000</td>\n",
       "      <td></td>\n",
       "      <td></td>\n",
       "      <td>21.0</td>\n",
       "    </tr>\n",
       "    <tr>\n",
       "      <th>1</th>\n",
       "      <td>651</td>\n",
       "      <td>Borough</td>\n",
       "      <td>1</td>\n",
       "      <td>2012-2014</td>\n",
       "      <td>0</td>\n",
       "      <td>15.4881</td>\n",
       "      <td></td>\n",
       "      <td></td>\n",
       "      <td>15.5</td>\n",
       "    </tr>\n",
       "    <tr>\n",
       "      <th>2</th>\n",
       "      <td>651</td>\n",
       "      <td>Borough</td>\n",
       "      <td>1</td>\n",
       "      <td>2009-2011</td>\n",
       "      <td>0</td>\n",
       "      <td>18.8000</td>\n",
       "      <td></td>\n",
       "      <td></td>\n",
       "      <td>18.8</td>\n",
       "    </tr>\n",
       "    <tr>\n",
       "      <th>3</th>\n",
       "      <td>651</td>\n",
       "      <td>Borough</td>\n",
       "      <td>1</td>\n",
       "      <td>2005-2007</td>\n",
       "      <td>0</td>\n",
       "      <td>31.3000</td>\n",
       "      <td></td>\n",
       "      <td></td>\n",
       "      <td>31.3</td>\n",
       "    </tr>\n",
       "    <tr>\n",
       "      <th>4</th>\n",
       "      <td>651</td>\n",
       "      <td>Borough</td>\n",
       "      <td>2</td>\n",
       "      <td>2015-2017</td>\n",
       "      <td>0</td>\n",
       "      <td>18.2000</td>\n",
       "      <td></td>\n",
       "      <td></td>\n",
       "      <td>18.2</td>\n",
       "    </tr>\n",
       "  </tbody>\n",
       "</table>\n",
       "</div>"
      ],
      "text/plain": [
       "   MeasureID  GeoType  GeoID       Time  ban_summary_flag    Value CI Note  \\\n",
       "0        651  Borough      1  2015-2017                 0  21.0000           \n",
       "1        651  Borough      1  2012-2014                 0  15.4881           \n",
       "2        651  Borough      1  2009-2011                 0  18.8000           \n",
       "3        651  Borough      1  2005-2007                 0  31.3000           \n",
       "4        651  Borough      2  2015-2017                 0  18.2000           \n",
       "\n",
       "  DisplayValue  \n",
       "0         21.0  \n",
       "1         15.5  \n",
       "2         18.8  \n",
       "3         31.3  \n",
       "4         18.2  "
      ]
     },
     "execution_count": 162,
     "metadata": {},
     "output_type": "execute_result"
    }
   ],
   "source": [
    "df.head()"
   ]
  },
  {
   "cell_type": "markdown",
   "id": "a1110a75-00f7-4018-9ee3-9f6040efb194",
   "metadata": {},
   "source": [
    "## Read joined data to check"
   ]
  },
  {
   "cell_type": "code",
   "execution_count": 28,
   "id": "cd8bb2f6-3e0c-4313-8db3-26c12be625d3",
   "metadata": {},
   "outputs": [],
   "source": [
    "joined = json.load(open(\"joined_data_2120.topojson\"))"
   ]
  },
  {
   "cell_type": "code",
   "execution_count": 29,
   "id": "0cf3f989-8bf4-4044-b835-193be8c57736",
   "metadata": {},
   "outputs": [],
   "source": [
    "properties = [geometry['properties'] for geometry in joined['objects']['collection']['geometries']]"
   ]
  },
  {
   "cell_type": "code",
   "execution_count": 30,
   "id": "a0db327b-e1be-400f-a981-f6b48d9e9534",
   "metadata": {},
   "outputs": [],
   "source": [
    "joined_df = pd.DataFrame(properties)"
   ]
  },
  {
   "cell_type": "code",
   "execution_count": 31,
   "id": "36bc55a0-a932-453b-9c66-31b29c654402",
   "metadata": {},
   "outputs": [
    {
     "data": {
      "text/html": [
       "<div>\n",
       "<style scoped>\n",
       "    .dataframe tbody tr th:only-of-type {\n",
       "        vertical-align: middle;\n",
       "    }\n",
       "\n",
       "    .dataframe tbody tr th {\n",
       "        vertical-align: top;\n",
       "    }\n",
       "\n",
       "    .dataframe thead th {\n",
       "        text-align: right;\n",
       "    }\n",
       "</style>\n",
       "<table border=\"1\" class=\"dataframe\">\n",
       "  <thead>\n",
       "    <tr style=\"text-align: right;\">\n",
       "      <th></th>\n",
       "      <th>GeoType</th>\n",
       "      <th>GeoTypeDesc</th>\n",
       "      <th>GeoTypeShortDesc</th>\n",
       "      <th>GeoID</th>\n",
       "      <th>Name</th>\n",
       "      <th>BoroID</th>\n",
       "      <th>Borough</th>\n",
       "      <th>Lat</th>\n",
       "      <th>Long</th>\n",
       "      <th>value</th>\n",
       "      <th>measure_id</th>\n",
       "      <th>time</th>\n",
       "      <th>id</th>\n",
       "      <th>NTA2020</th>\n",
       "      <th>GEOCODE</th>\n",
       "      <th>GEONAME</th>\n",
       "    </tr>\n",
       "  </thead>\n",
       "  <tbody>\n",
       "    <tr>\n",
       "      <th>0</th>\n",
       "      <td>Subboro</td>\n",
       "      <td>Sub-borough/PUMA</td>\n",
       "      <td>Neighborhood (Sub-borough/PUMA)</td>\n",
       "      <td>1</td>\n",
       "      <td>Mott Haven/Hunts Point</td>\n",
       "      <td>1</td>\n",
       "      <td>Bronx</td>\n",
       "      <td>40.8092</td>\n",
       "      <td>-73.8991</td>\n",
       "      <td>15.4881</td>\n",
       "      <td>651.0</td>\n",
       "      <td>2012-2014</td>\n",
       "      <td>NaN</td>\n",
       "      <td>NaN</td>\n",
       "      <td>NaN</td>\n",
       "      <td>NaN</td>\n",
       "    </tr>\n",
       "    <tr>\n",
       "      <th>1</th>\n",
       "      <td>Subboro</td>\n",
       "      <td>Sub-borough/PUMA</td>\n",
       "      <td>Neighborhood (Sub-borough/PUMA)</td>\n",
       "      <td>2</td>\n",
       "      <td>Morrisania/East Tremont</td>\n",
       "      <td>1</td>\n",
       "      <td>Bronx</td>\n",
       "      <td>40.8454</td>\n",
       "      <td>-73.8876</td>\n",
       "      <td>18.8000</td>\n",
       "      <td>651.0</td>\n",
       "      <td>2009-2011</td>\n",
       "      <td>NaN</td>\n",
       "      <td>NaN</td>\n",
       "      <td>NaN</td>\n",
       "      <td>NaN</td>\n",
       "    </tr>\n",
       "    <tr>\n",
       "      <th>2</th>\n",
       "      <td>Subboro</td>\n",
       "      <td>Sub-borough/PUMA</td>\n",
       "      <td>Neighborhood (Sub-borough/PUMA)</td>\n",
       "      <td>3</td>\n",
       "      <td>Highbridge/South Concourse</td>\n",
       "      <td>1</td>\n",
       "      <td>Bronx</td>\n",
       "      <td>40.8325</td>\n",
       "      <td>-73.9216</td>\n",
       "      <td>31.3000</td>\n",
       "      <td>651.0</td>\n",
       "      <td>2005-2007</td>\n",
       "      <td>NaN</td>\n",
       "      <td>NaN</td>\n",
       "      <td>NaN</td>\n",
       "      <td>NaN</td>\n",
       "    </tr>\n",
       "    <tr>\n",
       "      <th>3</th>\n",
       "      <td>Subboro</td>\n",
       "      <td>Sub-borough/PUMA</td>\n",
       "      <td>Neighborhood (Sub-borough/PUMA)</td>\n",
       "      <td>4</td>\n",
       "      <td>University Heights/Fordham</td>\n",
       "      <td>1</td>\n",
       "      <td>Bronx</td>\n",
       "      <td>40.8522</td>\n",
       "      <td>-73.9097</td>\n",
       "      <td>18.2000</td>\n",
       "      <td>651.0</td>\n",
       "      <td>2015-2017</td>\n",
       "      <td>NaN</td>\n",
       "      <td>NaN</td>\n",
       "      <td>NaN</td>\n",
       "      <td>NaN</td>\n",
       "    </tr>\n",
       "    <tr>\n",
       "      <th>4</th>\n",
       "      <td>Subboro</td>\n",
       "      <td>Sub-borough/PUMA</td>\n",
       "      <td>Neighborhood (Sub-borough/PUMA)</td>\n",
       "      <td>5</td>\n",
       "      <td>Kingsbridge Heights/Mosholu</td>\n",
       "      <td>1</td>\n",
       "      <td>Bronx</td>\n",
       "      <td>40.8703</td>\n",
       "      <td>-73.8909</td>\n",
       "      <td>14.8043</td>\n",
       "      <td>651.0</td>\n",
       "      <td>2012-2014</td>\n",
       "      <td>NaN</td>\n",
       "      <td>NaN</td>\n",
       "      <td>NaN</td>\n",
       "      <td>NaN</td>\n",
       "    </tr>\n",
       "  </tbody>\n",
       "</table>\n",
       "</div>"
      ],
      "text/plain": [
       "   GeoType       GeoTypeDesc                 GeoTypeShortDesc GeoID  \\\n",
       "0  Subboro  Sub-borough/PUMA  Neighborhood (Sub-borough/PUMA)     1   \n",
       "1  Subboro  Sub-borough/PUMA  Neighborhood (Sub-borough/PUMA)     2   \n",
       "2  Subboro  Sub-borough/PUMA  Neighborhood (Sub-borough/PUMA)     3   \n",
       "3  Subboro  Sub-borough/PUMA  Neighborhood (Sub-borough/PUMA)     4   \n",
       "4  Subboro  Sub-borough/PUMA  Neighborhood (Sub-borough/PUMA)     5   \n",
       "\n",
       "                          Name BoroID Borough      Lat      Long    value  \\\n",
       "0       Mott Haven/Hunts Point      1   Bronx  40.8092  -73.8991  15.4881   \n",
       "1      Morrisania/East Tremont      1   Bronx  40.8454  -73.8876  18.8000   \n",
       "2   Highbridge/South Concourse      1   Bronx  40.8325  -73.9216  31.3000   \n",
       "3   University Heights/Fordham      1   Bronx  40.8522  -73.9097  18.2000   \n",
       "4  Kingsbridge Heights/Mosholu      1   Bronx  40.8703  -73.8909  14.8043   \n",
       "\n",
       "   measure_id       time   id NTA2020  GEOCODE GEONAME  \n",
       "0       651.0  2012-2014  NaN     NaN      NaN     NaN  \n",
       "1       651.0  2009-2011  NaN     NaN      NaN     NaN  \n",
       "2       651.0  2005-2007  NaN     NaN      NaN     NaN  \n",
       "3       651.0  2015-2017  NaN     NaN      NaN     NaN  \n",
       "4       651.0  2012-2014  NaN     NaN      NaN     NaN  "
      ]
     },
     "execution_count": 31,
     "metadata": {},
     "output_type": "execute_result"
    }
   ],
   "source": [
    "joined_df.head()"
   ]
  },
  {
   "cell_type": "code",
   "execution_count": null,
   "id": "9ee6a374-3373-4ee2-a2bd-c3291896d4dd",
   "metadata": {},
   "outputs": [],
   "source": []
  },
  {
   "cell_type": "markdown",
   "id": "cbd8f690-ffbc-4a67-b02c-422838287289",
   "metadata": {},
   "source": [
    "## Checking Topojson file"
   ]
  },
  {
   "cell_type": "code",
   "execution_count": 88,
   "id": "eab2acbd-fd04-472b-95bc-5f63bb3742cd",
   "metadata": {},
   "outputs": [],
   "source": [
    "topojson_file = '../geography/CD.topo.json'"
   ]
  },
  {
   "cell_type": "code",
   "execution_count": 89,
   "id": "0f15881a-7907-4c02-8938-b28744da14d0",
   "metadata": {},
   "outputs": [],
   "source": [
    "with open(topojson_file, 'r') as file:\n",
    "        cd_data = json.load(file)"
   ]
  },
  {
   "cell_type": "code",
   "execution_count": 90,
   "id": "b0fa5d1c-405d-499f-b864-7b6cb3ddbfe3",
   "metadata": {},
   "outputs": [],
   "source": [
    "properties2 = [geometry['properties'] for geometry in cd_data['objects']['collection']['geometries']]"
   ]
  },
  {
   "cell_type": "code",
   "execution_count": 49,
   "id": "a02e4d93-e28c-480b-8b26-7534acf9adcc",
   "metadata": {},
   "outputs": [
    {
     "data": {
      "text/plain": [
       "50101"
      ]
     },
     "execution_count": 49,
     "metadata": {},
     "output_type": "execute_result"
    }
   ],
   "source": [
    "topojson_data['objects']['collection']['geometries'][0]['properties']['GEOCODE']"
   ]
  },
  {
   "cell_type": "code",
   "execution_count": 50,
   "id": "ae95fa73-39d3-4a2c-9ef0-384d709ba128",
   "metadata": {},
   "outputs": [],
   "source": [
    "topo_data = pd.DataFrame(properties2)"
   ]
  },
  {
   "cell_type": "code",
   "execution_count": 51,
   "id": "30eafc00-c7d2-4d43-b6b3-b9c534a725fd",
   "metadata": {},
   "outputs": [
    {
     "data": {
      "text/html": [
       "<div>\n",
       "<style scoped>\n",
       "    .dataframe tbody tr th:only-of-type {\n",
       "        vertical-align: middle;\n",
       "    }\n",
       "\n",
       "    .dataframe tbody tr th {\n",
       "        vertical-align: top;\n",
       "    }\n",
       "\n",
       "    .dataframe thead th {\n",
       "        text-align: right;\n",
       "    }\n",
       "</style>\n",
       "<table border=\"1\" class=\"dataframe\">\n",
       "  <thead>\n",
       "    <tr style=\"text-align: right;\">\n",
       "      <th></th>\n",
       "      <th>id</th>\n",
       "      <th>NTA2020</th>\n",
       "      <th>GEOCODE</th>\n",
       "      <th>GEONAME</th>\n",
       "    </tr>\n",
       "  </thead>\n",
       "  <tbody>\n",
       "    <tr>\n",
       "      <th>0</th>\n",
       "      <td>1</td>\n",
       "      <td>BX0101</td>\n",
       "      <td>50101</td>\n",
       "      <td>Mott Haven-Port Morris</td>\n",
       "    </tr>\n",
       "    <tr>\n",
       "      <th>1</th>\n",
       "      <td>2</td>\n",
       "      <td>BX0102</td>\n",
       "      <td>50102</td>\n",
       "      <td>Melrose</td>\n",
       "    </tr>\n",
       "    <tr>\n",
       "      <th>2</th>\n",
       "      <td>3</td>\n",
       "      <td>QN0151</td>\n",
       "      <td>50151</td>\n",
       "      <td>Rikers Island</td>\n",
       "    </tr>\n",
       "    <tr>\n",
       "      <th>3</th>\n",
       "      <td>4</td>\n",
       "      <td>BX0201</td>\n",
       "      <td>50201</td>\n",
       "      <td>Hunts Point</td>\n",
       "    </tr>\n",
       "    <tr>\n",
       "      <th>4</th>\n",
       "      <td>5</td>\n",
       "      <td>BX0202</td>\n",
       "      <td>50202</td>\n",
       "      <td>Longwood</td>\n",
       "    </tr>\n",
       "  </tbody>\n",
       "</table>\n",
       "</div>"
      ],
      "text/plain": [
       "  id NTA2020  GEOCODE                 GEONAME\n",
       "0  1  BX0101    50101  Mott Haven-Port Morris\n",
       "1  2  BX0102    50102                 Melrose\n",
       "2  3  QN0151    50151           Rikers Island\n",
       "3  4  BX0201    50201             Hunts Point\n",
       "4  5  BX0202    50202                Longwood"
      ]
     },
     "execution_count": 51,
     "metadata": {},
     "output_type": "execute_result"
    }
   ],
   "source": [
    "topo_data.head()"
   ]
  },
  {
   "cell_type": "code",
   "execution_count": 91,
   "id": "0404ff6e-e216-430a-a6b7-82734c3154b2",
   "metadata": {},
   "outputs": [],
   "source": [
    "cd_df = pd.DataFrame(properties2)"
   ]
  },
  {
   "cell_type": "code",
   "execution_count": 93,
   "id": "0e9e79ce-2a59-4686-8ed6-148bf633a3a6",
   "metadata": {},
   "outputs": [
    {
     "data": {
      "text/html": [
       "<div>\n",
       "<style scoped>\n",
       "    .dataframe tbody tr th:only-of-type {\n",
       "        vertical-align: middle;\n",
       "    }\n",
       "\n",
       "    .dataframe tbody tr th {\n",
       "        vertical-align: top;\n",
       "    }\n",
       "\n",
       "    .dataframe thead th {\n",
       "        text-align: right;\n",
       "    }\n",
       "</style>\n",
       "<table border=\"1\" class=\"dataframe\">\n",
       "  <thead>\n",
       "    <tr style=\"text-align: right;\">\n",
       "      <th></th>\n",
       "      <th>GEOCODE</th>\n",
       "      <th>GEONAME</th>\n",
       "      <th>BOROUGH</th>\n",
       "    </tr>\n",
       "  </thead>\n",
       "  <tbody>\n",
       "    <tr>\n",
       "      <th>0</th>\n",
       "      <td>101</td>\n",
       "      <td>Financial District (CD1)</td>\n",
       "      <td>Manhattan</td>\n",
       "    </tr>\n",
       "    <tr>\n",
       "      <th>1</th>\n",
       "      <td>102</td>\n",
       "      <td>Greenwich Village and Soho (CD2)</td>\n",
       "      <td>Manhattan</td>\n",
       "    </tr>\n",
       "    <tr>\n",
       "      <th>2</th>\n",
       "      <td>103</td>\n",
       "      <td>Lower East Side and Chinatown (CD3)</td>\n",
       "      <td>Manhattan</td>\n",
       "    </tr>\n",
       "    <tr>\n",
       "      <th>3</th>\n",
       "      <td>104</td>\n",
       "      <td>Clinton and Chelsea (CD4)</td>\n",
       "      <td>Manhattan</td>\n",
       "    </tr>\n",
       "    <tr>\n",
       "      <th>4</th>\n",
       "      <td>105</td>\n",
       "      <td>Midtown (CD5)</td>\n",
       "      <td>Manhattan</td>\n",
       "    </tr>\n",
       "  </tbody>\n",
       "</table>\n",
       "</div>"
      ],
      "text/plain": [
       "   GEOCODE                              GEONAME    BOROUGH\n",
       "0      101             Financial District (CD1)  Manhattan\n",
       "1      102     Greenwich Village and Soho (CD2)  Manhattan\n",
       "2      103  Lower East Side and Chinatown (CD3)  Manhattan\n",
       "3      104            Clinton and Chelsea (CD4)  Manhattan\n",
       "4      105                        Midtown (CD5)  Manhattan"
      ]
     },
     "execution_count": 93,
     "metadata": {},
     "output_type": "execute_result"
    }
   ],
   "source": [
    "cd_df['GEOCODE']"
   ]
  },
  {
   "cell_type": "code",
   "execution_count": 97,
   "id": "2ec64544-2c78-4a21-9e4b-618b161a1237",
   "metadata": {},
   "outputs": [
    {
     "data": {
      "text/plain": [
       "65"
      ]
     },
     "execution_count": 97,
     "metadata": {},
     "output_type": "execute_result"
    }
   ],
   "source": [
    "len(cd_df['GEOCODE'].unique())"
   ]
  },
  {
   "cell_type": "code",
   "execution_count": 73,
   "id": "c089e446-b9e4-4805-8a54-79a6d385a359",
   "metadata": {},
   "outputs": [],
   "source": [
    "with open(json_file, 'r') as file:\n",
    "        json_data = json.load(file)"
   ]
  },
  {
   "cell_type": "markdown",
   "id": "97112c11-0fd7-437d-9434-45830ee3ff2a",
   "metadata": {},
   "source": [
    "## Check geography data"
   ]
  },
  {
   "cell_type": "code",
   "execution_count": 164,
   "id": "a07df5bd-09d7-4673-9a9e-ca036162391e",
   "metadata": {},
   "outputs": [],
   "source": [
    "geo = pd.read_csv(csv_file)"
   ]
  },
  {
   "cell_type": "code",
   "execution_count": 118,
   "id": "55f34bd4-8aae-46dd-b725-d71b4381dc22",
   "metadata": {},
   "outputs": [],
   "source": [
    "sub = geo[geo['GeoType'] == 'Subboro']"
   ]
  },
  {
   "cell_type": "code",
   "execution_count": 115,
   "id": "98857820-a79d-4b50-89f3-b12fd67ee845",
   "metadata": {},
   "outputs": [
    {
     "data": {
      "text/html": [
       "<div>\n",
       "<style scoped>\n",
       "    .dataframe tbody tr th:only-of-type {\n",
       "        vertical-align: middle;\n",
       "    }\n",
       "\n",
       "    .dataframe tbody tr th {\n",
       "        vertical-align: top;\n",
       "    }\n",
       "\n",
       "    .dataframe thead th {\n",
       "        text-align: right;\n",
       "    }\n",
       "</style>\n",
       "<table border=\"1\" class=\"dataframe\">\n",
       "  <thead>\n",
       "    <tr style=\"text-align: right;\">\n",
       "      <th></th>\n",
       "      <th>GeoType</th>\n",
       "      <th>GeoTypeDesc</th>\n",
       "      <th>GeoTypeShortDesc</th>\n",
       "      <th>GeoID</th>\n",
       "      <th>Name</th>\n",
       "      <th>BoroID</th>\n",
       "      <th>Borough</th>\n",
       "      <th>Lat</th>\n",
       "      <th>Long</th>\n",
       "    </tr>\n",
       "  </thead>\n",
       "  <tbody>\n",
       "    <tr>\n",
       "      <th>2</th>\n",
       "      <td>Borough</td>\n",
       "      <td>Borough</td>\n",
       "      <td>Borough</td>\n",
       "      <td>2</td>\n",
       "      <td>Brooklyn</td>\n",
       "      <td>2.0</td>\n",
       "      <td>Brooklyn</td>\n",
       "      <td>40.6447</td>\n",
       "      <td>-73.9479</td>\n",
       "    </tr>\n",
       "    <tr>\n",
       "      <th>83</th>\n",
       "      <td>Subboro</td>\n",
       "      <td>Sub-borough/PUMA</td>\n",
       "      <td>Neighborhood (Sub-borough/PUMA)</td>\n",
       "      <td>2</td>\n",
       "      <td>Morrisania/East Tremont</td>\n",
       "      <td>1.0</td>\n",
       "      <td>Bronx</td>\n",
       "      <td>40.8454</td>\n",
       "      <td>-73.8876</td>\n",
       "    </tr>\n",
       "  </tbody>\n",
       "</table>\n",
       "</div>"
      ],
      "text/plain": [
       "    GeoType       GeoTypeDesc                 GeoTypeShortDesc  GeoID  \\\n",
       "2   Borough           Borough                          Borough      2   \n",
       "83  Subboro  Sub-borough/PUMA  Neighborhood (Sub-borough/PUMA)      2   \n",
       "\n",
       "                       Name  BoroID   Borough      Lat     Long  \n",
       "2                  Brooklyn     2.0  Brooklyn  40.6447 -73.9479  \n",
       "83  Morrisania/East Tremont     1.0     Bronx  40.8454 -73.8876  "
      ]
     },
     "execution_count": 115,
     "metadata": {},
     "output_type": "execute_result"
    }
   ],
   "source": [
    "ones"
   ]
  }
 ],
 "metadata": {
  "kernelspec": {
   "display_name": "Python 3",
   "language": "python",
   "name": "python3"
  },
  "language_info": {
   "codemirror_mode": {
    "name": "ipython",
    "version": 3
   },
   "file_extension": ".py",
   "mimetype": "text/x-python",
   "name": "python",
   "nbconvert_exporter": "python",
   "pygments_lexer": "ipython3",
   "version": "3.8.8"
  }
 },
 "nbformat": 4,
 "nbformat_minor": 5
}

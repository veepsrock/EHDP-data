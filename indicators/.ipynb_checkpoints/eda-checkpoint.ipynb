{
 "cells": [
  {
   "cell_type": "code",
   "execution_count": 1,
   "id": "614da4ae-e4a1-4353-a049-9d3a4827c99b",
   "metadata": {},
   "outputs": [],
   "source": [
    "import pandas as pd"
   ]
  },
  {
   "cell_type": "code",
   "execution_count": 19,
   "id": "aa0409b3-c7d9-4ec2-80d1-fb3071fb3c9b",
   "metadata": {},
   "outputs": [],
   "source": [
    "import json\n",
    "import os\n",
    "import csv"
   ]
  },
  {
   "cell_type": "code",
   "execution_count": 3,
   "id": "7e9f4fcf-27e5-44e6-b836-aa94f8a1b5ec",
   "metadata": {},
   "outputs": [
    {
     "data": {
      "text/plain": [
       "'/repos/EHDP-data/indicators'"
      ]
     },
     "execution_count": 3,
     "metadata": {},
     "output_type": "execute_result"
    }
   ],
   "source": [
    "os.getcwd()"
   ]
  },
  {
   "cell_type": "code",
   "execution_count": 12,
   "id": "dc05d066-29bf-4b6b-a431-157b3afc5c96",
   "metadata": {},
   "outputs": [],
   "source": [
    "test = json.load(open(\"data/2120.json\"))"
   ]
  },
  {
   "cell_type": "code",
   "execution_count": 13,
   "id": "ea2b7172-a29d-4c3b-9724-62681c049709",
   "metadata": {},
   "outputs": [],
   "source": [
    "df = pd.DataFrame.from_dict(test)"
   ]
  },
  {
   "cell_type": "code",
   "execution_count": 14,
   "id": "1022fea6-1109-4c9c-b310-bb02ad2eb342",
   "metadata": {},
   "outputs": [
    {
     "data": {
      "text/html": [
       "<div>\n",
       "<style scoped>\n",
       "    .dataframe tbody tr th:only-of-type {\n",
       "        vertical-align: middle;\n",
       "    }\n",
       "\n",
       "    .dataframe tbody tr th {\n",
       "        vertical-align: top;\n",
       "    }\n",
       "\n",
       "    .dataframe thead th {\n",
       "        text-align: right;\n",
       "    }\n",
       "</style>\n",
       "<table border=\"1\" class=\"dataframe\">\n",
       "  <thead>\n",
       "    <tr style=\"text-align: right;\">\n",
       "      <th></th>\n",
       "      <th>MeasureID</th>\n",
       "      <th>GeoType</th>\n",
       "      <th>GeoID</th>\n",
       "      <th>Time</th>\n",
       "      <th>ban_summary_flag</th>\n",
       "      <th>Value</th>\n",
       "      <th>CI</th>\n",
       "      <th>Note</th>\n",
       "      <th>DisplayValue</th>\n",
       "    </tr>\n",
       "  </thead>\n",
       "  <tbody>\n",
       "    <tr>\n",
       "      <th>0</th>\n",
       "      <td>651</td>\n",
       "      <td>Borough</td>\n",
       "      <td>1</td>\n",
       "      <td>2015-2017</td>\n",
       "      <td>0</td>\n",
       "      <td>21.0000</td>\n",
       "      <td></td>\n",
       "      <td></td>\n",
       "      <td>21.0</td>\n",
       "    </tr>\n",
       "    <tr>\n",
       "      <th>1</th>\n",
       "      <td>651</td>\n",
       "      <td>Borough</td>\n",
       "      <td>1</td>\n",
       "      <td>2012-2014</td>\n",
       "      <td>0</td>\n",
       "      <td>15.4881</td>\n",
       "      <td></td>\n",
       "      <td></td>\n",
       "      <td>15.5</td>\n",
       "    </tr>\n",
       "    <tr>\n",
       "      <th>2</th>\n",
       "      <td>651</td>\n",
       "      <td>Borough</td>\n",
       "      <td>1</td>\n",
       "      <td>2009-2011</td>\n",
       "      <td>0</td>\n",
       "      <td>18.8000</td>\n",
       "      <td></td>\n",
       "      <td></td>\n",
       "      <td>18.8</td>\n",
       "    </tr>\n",
       "    <tr>\n",
       "      <th>3</th>\n",
       "      <td>651</td>\n",
       "      <td>Borough</td>\n",
       "      <td>1</td>\n",
       "      <td>2005-2007</td>\n",
       "      <td>0</td>\n",
       "      <td>31.3000</td>\n",
       "      <td></td>\n",
       "      <td></td>\n",
       "      <td>31.3</td>\n",
       "    </tr>\n",
       "    <tr>\n",
       "      <th>4</th>\n",
       "      <td>651</td>\n",
       "      <td>Borough</td>\n",
       "      <td>2</td>\n",
       "      <td>2015-2017</td>\n",
       "      <td>0</td>\n",
       "      <td>18.2000</td>\n",
       "      <td></td>\n",
       "      <td></td>\n",
       "      <td>18.2</td>\n",
       "    </tr>\n",
       "  </tbody>\n",
       "</table>\n",
       "</div>"
      ],
      "text/plain": [
       "   MeasureID  GeoType  GeoID       Time  ban_summary_flag    Value CI Note  \\\n",
       "0        651  Borough      1  2015-2017                 0  21.0000           \n",
       "1        651  Borough      1  2012-2014                 0  15.4881           \n",
       "2        651  Borough      1  2009-2011                 0  18.8000           \n",
       "3        651  Borough      1  2005-2007                 0  31.3000           \n",
       "4        651  Borough      2  2015-2017                 0  18.2000           \n",
       "\n",
       "  DisplayValue  \n",
       "0         21.0  \n",
       "1         15.5  \n",
       "2         18.8  \n",
       "3         31.3  \n",
       "4         18.2  "
      ]
     },
     "execution_count": 14,
     "metadata": {},
     "output_type": "execute_result"
    }
   ],
   "source": [
    "df.head()"
   ]
  },
  {
   "cell_type": "code",
   "execution_count": 15,
   "id": "bf08fdd8-0432-422f-a19a-b6395cef60d5",
   "metadata": {},
   "outputs": [
    {
     "data": {
      "text/plain": [
       "array(['2015-2017', '2012-2014', '2009-2011', '2005-2007'], dtype=object)"
      ]
     },
     "execution_count": 15,
     "metadata": {},
     "output_type": "execute_result"
    }
   ],
   "source": [
    "df['Time'].unique()"
   ]
  },
  {
   "cell_type": "code",
   "execution_count": 16,
   "id": "d0156b47-cc83-44ea-8df9-70f8dc0d6c64",
   "metadata": {},
   "outputs": [
    {
     "data": {
      "text/plain": [
       "array([ 651, 1177])"
      ]
     },
     "execution_count": 16,
     "metadata": {},
     "output_type": "execute_result"
    }
   ],
   "source": [
    "df['MeasureID'].unique()"
   ]
  },
  {
   "cell_type": "code",
   "execution_count": 18,
   "id": "c366d429-a1a9-4db2-a27b-1de0600a4741",
   "metadata": {},
   "outputs": [
    {
     "data": {
      "text/plain": [
       "array([  1,   2,   3,   4,   5, 101, 102, 103, 104, 105, 106, 107, 201,\n",
       "       202, 203, 204, 205, 206, 207, 208, 209, 210, 211, 301, 302, 303,\n",
       "       304, 305, 306, 307, 308, 309, 310, 401, 402, 403, 404, 405, 406,\n",
       "       407, 408, 409, 410, 501, 502, 503, 504])"
      ]
     },
     "execution_count": 18,
     "metadata": {},
     "output_type": "execute_result"
    }
   ],
   "source": [
    "df['GeoID'].unique()"
   ]
  },
  {
   "cell_type": "code",
   "execution_count": 36,
   "id": "afb62bbe-ee3a-490e-a450-62c79a227e18",
   "metadata": {},
   "outputs": [],
   "source": [
    "def read_csv_as_index(csv_file):\n",
    "    index = {}\n",
    "    with open(csv_file, 'r') as file:\n",
    "        reader = csv.DictReader(file)\n",
    "        for row in reader:\n",
    "            index[row['GeoID']] = row\n",
    "    return index"
   ]
  },
  {
   "cell_type": "code",
   "execution_count": 37,
   "id": "d3a03e75-106d-41c1-ba59-4c1dac4fb2e2",
   "metadata": {},
   "outputs": [],
   "source": [
    "def join_json_to_topojson(json_file, topojson_file, csv_file, output_file):\n",
    "    # Step 1: Read the CSV file and store index values\n",
    "    index = read_csv_as_index(csv_file)\n",
    "\n",
    "    # Step 2: Read the JSON file\n",
    "    with open(json_file, 'r') as file:\n",
    "        json_data = json.load(file)\n",
    "\n",
    "    # Step 3: Read the TopoJSON file\n",
    "    with open(topojson_file, 'r') as file:\n",
    "        topojson_data = json.load(file)\n",
    "\n",
    "    # Step 4: Iterate through objects in TopoJSON\n",
    "    for object_key in topojson_data['objects']:\n",
    "        object_data = topojson_data['objects'][object_key]\n",
    "        if object_data['type'] == 'GeometryCollection':\n",
    "            # Iterate through geometries in GeometryCollection\n",
    "            for geometry in object_data['geometries']:\n",
    "                # Step 5: Retrieve corresponding data from JSON using index values\n",
    "                id_value = geometry['properties']['GeoID']\n",
    "                if id_value in index:\n",
    "                    json_entry = index[id_value]\n",
    "                    # Step 6: Add retrieved data to TopoJSON properties\n",
    "                    geometry['properties'].update(json_entry)\n",
    "\n",
    "    # Step 7: Write updated TopoJSON data to a new file\n",
    "    with open(output_file, 'w') as file:\n",
    "        json.dump(topojson_data, file)"
   ]
  },
  {
   "cell_type": "code",
   "execution_count": 21,
   "id": "d2199d58-a31c-4b88-b8a6-e80cc8fd68de",
   "metadata": {},
   "outputs": [],
   "source": [
    "csv_file = '../geography/GeoLookup.csv'"
   ]
  },
  {
   "cell_type": "code",
   "execution_count": 24,
   "id": "32863907-2a8c-471e-b386-0c0ae6c44125",
   "metadata": {},
   "outputs": [],
   "source": [
    "json_file = 'data/2120.json'"
   ]
  },
  {
   "cell_type": "code",
   "execution_count": 25,
   "id": "c6804099-fcc6-480e-93e7-e6bcda7beed0",
   "metadata": {},
   "outputs": [],
   "source": [
    "topojson_file = '../geography/NTA_2020.topo.json'"
   ]
  },
  {
   "cell_type": "code",
   "execution_count": 27,
   "id": "310a2e9f-74d7-41cb-a8be-7bd91f9595c9",
   "metadata": {},
   "outputs": [],
   "source": [
    "output_file = 'joined_data.topojson'"
   ]
  },
  {
   "cell_type": "code",
   "execution_count": 51,
   "id": "d2d04388-f0d0-48de-97d6-dbf76de62114",
   "metadata": {},
   "outputs": [],
   "source": [
    "for object_key in topojson_data['objects']:\n",
    "    object_data = topojson_data['objects'][object_key]\n",
    "    if object_data['type'] == 'GeometryCollection':\n",
    "        # iterate through geometries in geometry collection\n",
    "        for geometry in object_data['geometries']:\n",
    "            id_value = geometry['properties']['id']\n",
    "            if id_value in index:\n",
    "                json_entry = index[id_value]\n",
    "                geometry['properties'].update(json_entry)\n"
   ]
  },
  {
   "cell_type": "code",
   "execution_count": 153,
   "id": "9c08e2c6-46b0-45f5-8d6e-f33081210e4f",
   "metadata": {},
   "outputs": [],
   "source": [
    "def join_json_to_topojson(json_file, topojson_file, csv_file, output_file):\n",
    "    # Step 1: Read the CSV file and store index values\n",
    "    index = read_csv_as_index(csv_file)\n",
    "\n",
    "    # Step 2: Read the JSON file\n",
    "    with open(json_file, 'r') as file:\n",
    "        json_data = json.load(file)\n",
    "\n",
    "    # Step 3: Read the TopoJSON file\n",
    "    with open(topojson_file, 'r') as file:\n",
    "        topojson_data = json.load(file)\n",
    "\n",
    "    # Step 4: Iterate through objects in TopoJSON\n",
    "    for object_key in topojson_data['objects']:\n",
    "        object_data = topojson_data['objects'][object_key]\n",
    "        if object_data['type'] == 'GeometryCollection':\n",
    "            # Iterate through geometries in GeometryCollection\n",
    "            for geometry in object_data['geometries']:\n",
    "                # Step 5: Retrieve corresponding data from JSON using index values\n",
    "                id_value = geometry['properties']['id']\n",
    "                if id_value in index:\n",
    "                    json_entry = index[id_value]\n",
    "                    json_entry['value'] = json_data[int(id_value)]['Value']\n",
    "                    json_entry['measure_id'] = json_data[int(id_value)]['MeasureID']\n",
    "                    json_entry['time'] = json_data[int(id_value)]['Time']\n",
    "                    # Step 6: Add retrieved data to TopoJSON properties\n",
    "                    geometry['properties'] = json_entry\n",
    "\n",
    "    # Step 7: Write updated TopoJSON data to a new file\n",
    "    with open(output_file, 'w') as file:\n",
    "        json.dump(topojson_data, file)"
   ]
  },
  {
   "cell_type": "code",
   "execution_count": 154,
   "id": "03d502ee-75ff-4048-a597-64d5d133ccac",
   "metadata": {},
   "outputs": [],
   "source": [
    "join_json_to_topojson(json_file, topojson_file, csv_file, output_file)\n"
   ]
  },
  {
   "cell_type": "code",
   "execution_count": 155,
   "id": "0bb2ea86-ab87-47ae-9fd6-179ae89f24a4",
   "metadata": {},
   "outputs": [],
   "source": [
    "with open(output_file, 'r') as file:\n",
    "    topojson_data2 = json.load(file)"
   ]
  }
 ],
 "metadata": {
  "kernelspec": {
   "display_name": "Python 3",
   "language": "python",
   "name": "python3"
  },
  "language_info": {
   "codemirror_mode": {
    "name": "ipython",
    "version": 3
   },
   "file_extension": ".py",
   "mimetype": "text/x-python",
   "name": "python",
   "nbconvert_exporter": "python",
   "pygments_lexer": "ipython3",
   "version": "3.8.8"
  }
 },
 "nbformat": 4,
 "nbformat_minor": 5
}
